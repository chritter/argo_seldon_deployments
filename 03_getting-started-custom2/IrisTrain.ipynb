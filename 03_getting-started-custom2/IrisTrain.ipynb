{
 "cells": [
  {
   "source": [
    "# ML Modeling with Iris Dataset and Sklearn\n",
    "\n",
    "### Goals\n",
    "\n",
    "* Traing ML Model\n",
    "* Create Python Wrapper with predict function\n",
    "* Build docker image (s2i) with Wrapper and model\n"
   ],
   "cell_type": "markdown",
   "metadata": {}
  },
  {
   "cell_type": "code",
   "execution_count": 1,
   "id": "09af1871-6230-484b-9054-9bc995382748",
   "metadata": {
    "execution": {
     "iopub.execute_input": "2021-08-20T13:41:07.927867Z",
     "iopub.status.busy": "2021-08-20T13:41:07.927252Z",
     "iopub.status.idle": "2021-08-20T13:41:08.094848Z",
     "shell.execute_reply": "2021-08-20T13:41:08.093805Z",
     "shell.execute_reply.started": "2021-08-20T13:41:07.927839Z"
    },
    "tags": []
   },
   "outputs": [],
   "source": [
    "import sklearn\n",
    "from sklearn.ensemble import RandomForestClassifier\n",
    "from sklearn import datasets\n",
    "import numpy as np\n",
    "import joblib\n",
    "from joblib import dump, load\n",
    "import seldon_core"
   ]
  },
  {
   "cell_type": "code",
   "execution_count": 40,
   "id": "eb0a95df-7f7a-469b-b3aa-38f8d0fa08f7",
   "metadata": {
    "execution": {
     "iopub.execute_input": "2021-08-20T13:34:50.035467Z",
     "iopub.status.busy": "2021-08-20T13:34:49.962377Z",
     "iopub.status.idle": "2021-08-20T13:34:50.608255Z",
     "shell.execute_reply": "2021-08-20T13:34:50.597926Z",
     "shell.execute_reply.started": "2021-08-20T13:34:50.031831Z"
    },
    "tags": []
   },
   "outputs": [
    {
     "data": {
      "text/plain": [
       "'0.24.2'"
      ]
     },
     "execution_count": 40,
     "metadata": {},
     "output_type": "execute_result"
    }
   ],
   "source": [
    "sklearn.__version__"
   ]
  },
  {
   "cell_type": "code",
   "execution_count": 45,
   "id": "3c527cee-c2a9-4317-b9dc-20a21974e5f1",
   "metadata": {
    "execution": {
     "iopub.execute_input": "2021-08-20T13:35:21.117123Z",
     "iopub.status.busy": "2021-08-20T13:35:21.116430Z",
     "iopub.status.idle": "2021-08-20T13:35:21.137531Z",
     "shell.execute_reply": "2021-08-20T13:35:21.135375Z",
     "shell.execute_reply.started": "2021-08-20T13:35:21.117077Z"
    },
    "tags": []
   },
   "outputs": [
    {
     "data": {
      "text/plain": [
       "'1.0.1'"
      ]
     },
     "execution_count": 45,
     "metadata": {},
     "output_type": "execute_result"
    }
   ],
   "source": [
    "joblib.__version__"
   ]
  },
  {
   "cell_type": "code",
   "execution_count": 47,
   "id": "be2e9752-bc68-4aab-94d1-10debac018ad",
   "metadata": {
    "execution": {
     "iopub.execute_input": "2021-08-20T13:41:13.306703Z",
     "iopub.status.busy": "2021-08-20T13:41:13.305990Z",
     "iopub.status.idle": "2021-08-20T13:41:13.323199Z",
     "shell.execute_reply": "2021-08-20T13:41:13.316372Z",
     "shell.execute_reply.started": "2021-08-20T13:41:13.306660Z"
    }
   },
   "outputs": [
    {
     "data": {
      "text/plain": [
       "'1.10.0'"
      ]
     },
     "execution_count": 47,
     "metadata": {},
     "output_type": "execute_result"
    }
   ],
   "source": [
    "seldon_core.__version__"
   ]
  },
  {
   "cell_type": "code",
   "execution_count": 4,
   "id": "f4b4b1a6-eaed-4f5a-ab9b-abc0bb0eb043",
   "metadata": {
    "execution": {
     "iopub.execute_input": "2021-08-18T19:17:36.657357Z",
     "iopub.status.busy": "2021-08-18T19:17:36.656731Z",
     "iopub.status.idle": "2021-08-18T19:17:36.690893Z",
     "shell.execute_reply": "2021-08-18T19:17:36.671477Z",
     "shell.execute_reply.started": "2021-08-18T19:17:36.657302Z"
    }
   },
   "outputs": [],
   "source": [
    "iris = datasets.load_iris()"
   ]
  },
  {
   "cell_type": "code",
   "execution_count": 7,
   "id": "ef67c7e0-f702-4e12-87d3-6eaeeb5483b4",
   "metadata": {
    "execution": {
     "iopub.execute_input": "2021-08-18T19:17:52.708598Z",
     "iopub.status.busy": "2021-08-18T19:17:52.707594Z",
     "iopub.status.idle": "2021-08-18T19:17:52.743080Z",
     "shell.execute_reply": "2021-08-18T19:17:52.734683Z",
     "shell.execute_reply.started": "2021-08-18T19:17:52.708539Z"
    },
    "tags": []
   },
   "outputs": [
    {
     "data": {
      "text/plain": [
       "(150, 4)"
      ]
     },
     "execution_count": 7,
     "metadata": {},
     "output_type": "execute_result"
    }
   ],
   "source": [
    "iris['data'].shape"
   ]
  },
  {
   "cell_type": "code",
   "execution_count": 8,
   "id": "45eec3fa-b84b-47e8-9216-89d436a1dc78",
   "metadata": {
    "execution": {
     "iopub.execute_input": "2021-08-18T19:17:58.069054Z",
     "iopub.status.busy": "2021-08-18T19:17:58.068349Z",
     "iopub.status.idle": "2021-08-18T19:17:58.091674Z",
     "shell.execute_reply": "2021-08-18T19:17:58.081884Z",
     "shell.execute_reply.started": "2021-08-18T19:17:58.069002Z"
    }
   },
   "outputs": [
    {
     "data": {
      "text/plain": [
       "(150,)"
      ]
     },
     "execution_count": 8,
     "metadata": {},
     "output_type": "execute_result"
    }
   ],
   "source": [
    "iris['target'].shape"
   ]
  },
  {
   "cell_type": "code",
   "execution_count": 13,
   "id": "0d7ffe13-b104-404f-a13b-3e3195a1d84d",
   "metadata": {
    "execution": {
     "iopub.execute_input": "2021-08-18T19:18:25.929518Z",
     "iopub.status.busy": "2021-08-18T19:18:25.927691Z",
     "iopub.status.idle": "2021-08-18T19:18:25.962619Z",
     "shell.execute_reply": "2021-08-18T19:18:25.953333Z",
     "shell.execute_reply.started": "2021-08-18T19:18:25.929448Z"
    },
    "tags": []
   },
   "outputs": [
    {
     "data": {
      "text/plain": [
       "array([0, 1, 2])"
      ]
     },
     "execution_count": 13,
     "metadata": {},
     "output_type": "execute_result"
    }
   ],
   "source": [
    "np.unique(iris['target'])"
   ]
  },
  {
   "cell_type": "code",
   "execution_count": 32,
   "id": "0271a239-3690-4a1a-b0e7-2f666ace5720",
   "metadata": {
    "execution": {
     "iopub.execute_input": "2021-08-18T19:24:25.145434Z",
     "iopub.status.busy": "2021-08-18T19:24:25.141547Z",
     "iopub.status.idle": "2021-08-18T19:24:25.173740Z",
     "shell.execute_reply": "2021-08-18T19:24:25.165538Z",
     "shell.execute_reply.started": "2021-08-18T19:24:25.145347Z"
    },
    "tags": []
   },
   "outputs": [],
   "source": [
    "X = iris['data']\n",
    "y = iris['target']"
   ]
  },
  {
   "cell_type": "code",
   "execution_count": 34,
   "id": "fdac3af5-deda-4ba6-9121-592540899fc4",
   "metadata": {
    "execution": {
     "iopub.execute_input": "2021-08-18T19:24:27.683333Z",
     "iopub.status.busy": "2021-08-18T19:24:27.682529Z",
     "iopub.status.idle": "2021-08-18T19:24:27.724869Z",
     "shell.execute_reply": "2021-08-18T19:24:27.707028Z",
     "shell.execute_reply.started": "2021-08-18T19:24:27.683067Z"
    },
    "tags": []
   },
   "outputs": [
    {
     "data": {
      "text/plain": [
       "array([5.1, 3.5, 1.4, 0.2])"
      ]
     },
     "execution_count": 34,
     "metadata": {},
     "output_type": "execute_result"
    }
   ],
   "source": [
    "X[0]"
   ]
  },
  {
   "cell_type": "code",
   "execution_count": 35,
   "id": "ef75c465-a472-4361-97c0-d44a611b8660",
   "metadata": {
    "execution": {
     "iopub.execute_input": "2021-08-18T19:24:31.181890Z",
     "iopub.status.busy": "2021-08-18T19:24:31.181279Z",
     "iopub.status.idle": "2021-08-18T19:24:31.190939Z",
     "shell.execute_reply": "2021-08-18T19:24:31.188946Z",
     "shell.execute_reply.started": "2021-08-18T19:24:31.181848Z"
    },
    "tags": []
   },
   "outputs": [],
   "source": [
    "clf = RandomForestClassifier(random_state=42)"
   ]
  },
  {
   "cell_type": "code",
   "execution_count": 36,
   "id": "d9f432b0-b435-4caa-939f-1abb8e5130d5",
   "metadata": {
    "execution": {
     "iopub.execute_input": "2021-08-18T19:24:34.943438Z",
     "iopub.status.busy": "2021-08-18T19:24:34.942908Z",
     "iopub.status.idle": "2021-08-18T19:24:35.964596Z",
     "shell.execute_reply": "2021-08-18T19:24:35.898567Z",
     "shell.execute_reply.started": "2021-08-18T19:24:34.943313Z"
    },
    "tags": []
   },
   "outputs": [
    {
     "data": {
      "text/plain": [
       "RandomForestClassifier(random_state=42)"
      ]
     },
     "execution_count": 36,
     "metadata": {},
     "output_type": "execute_result"
    }
   ],
   "source": [
    "clf.fit(X, y)"
   ]
  },
  {
   "cell_type": "code",
   "execution_count": 38,
   "id": "647bd037-cc55-4b4f-83b2-faea8d116351",
   "metadata": {
    "execution": {
     "iopub.execute_input": "2021-08-18T19:24:44.989548Z",
     "iopub.status.busy": "2021-08-18T19:24:44.988501Z",
     "iopub.status.idle": "2021-08-18T19:24:45.208137Z",
     "shell.execute_reply": "2021-08-18T19:24:45.198319Z",
     "shell.execute_reply.started": "2021-08-18T19:24:44.989510Z"
    },
    "tags": []
   },
   "outputs": [
    {
     "data": {
      "text/plain": [
       "1.0"
      ]
     },
     "execution_count": 38,
     "metadata": {},
     "output_type": "execute_result"
    }
   ],
   "source": [
    "clf.score(X, y)"
   ]
  },
  {
   "cell_type": "code",
   "execution_count": 39,
   "id": "2ba59bb8-7937-405e-a68c-4b49d30ab7f4",
   "metadata": {
    "execution": {
     "iopub.execute_input": "2021-08-18T19:24:50.874877Z",
     "iopub.status.busy": "2021-08-18T19:24:50.872042Z",
     "iopub.status.idle": "2021-08-18T19:24:51.033195Z",
     "shell.execute_reply": "2021-08-18T19:24:51.027315Z",
     "shell.execute_reply.started": "2021-08-18T19:24:50.874720Z"
    },
    "tags": []
   },
   "outputs": [
    {
     "data": {
      "text/plain": [
       "['model.joblib']"
      ]
     },
     "execution_count": 39,
     "metadata": {},
     "output_type": "execute_result"
    }
   ],
   "source": [
    "dump(clf, \"model.joblib\")"
   ]
  },
  {
   "source": [
    "## Testing Deployment Python Wrapper"
   ],
   "cell_type": "markdown",
   "metadata": {}
  },
  {
   "cell_type": "code",
   "execution_count": 2,
   "metadata": {},
   "outputs": [
    {
     "output_type": "stream",
     "name": "stdout",
     "text": [
      "# predict function modified from https://docs.seldon.io/projects/seldon-core/en/latest/workflow/github-readme.html\n\nfrom joblib import dump, load\nimport logging\n\nlogging.basicConfig(format='%(asctime)s (%(levelname)s) %(message)s',\n                    level=logging.DEBUG,\n                    datefmt='%d.%m.%Y %H:%M:%S')\n\nclass Model:\n    def __init__(self):\n        self._model = load(\"model.joblib\")\n\n    def predict(self, X, features_names=None):\n\n        logging.info(f'received X {X}')\n\n        output = self._model.predict(X)\n\n        logging.info(f\"model output {output}\")\n\n        return output\n\n    def health_status(self):\n        # check if model is working\n        response = self.model.predict([1, 2], [\"f1\", \"f2\"])\n\n        # simple model validation\n        assert len(response) == 2, \"health check returning bad predictions\" \n\n        return response\n\n    def tags(self,X):\n\n        # adding fixed tag to returned metadata\n        return {\"system\":\"dev\"}"
     ]
    }
   ],
   "source": [
    "cat Model.py"
   ]
  },
  {
   "cell_type": "code",
   "execution_count": 3,
   "id": "d3c0bb3f-5d59-47a4-ae38-70217f6534cf",
   "metadata": {},
   "outputs": [],
   "source": [
    "from Model import Model"
   ]
  },
  {
   "cell_type": "code",
   "execution_count": 4,
   "metadata": {},
   "outputs": [
    {
     "output_type": "stream",
     "name": "stderr",
     "text": [
      "01.09.2021 11:01:08 (INFO) received X [[1, 2, 3, 4]]\n",
      "01.09.2021 11:01:08 (INFO) model output [2]\n"
     ]
    },
    {
     "output_type": "execute_result",
     "data": {
      "text/plain": [
       "array([2])"
      ]
     },
     "metadata": {},
     "execution_count": 4
    }
   ],
   "source": [
    "Model().predict([[1,2,3,4]])"
   ]
  },
  {
   "source": [
    "### Building Image"
   ],
   "cell_type": "markdown",
   "metadata": {}
  },
  {
   "cell_type": "code",
   "execution_count": 1,
   "metadata": {
    "tags": []
   },
   "outputs": [],
   "source": [
    "! make build"
   ]
  },
  {
   "source": [
    "## Run docker locally and Test API access"
   ],
   "cell_type": "markdown",
   "metadata": {}
  },
  {
   "cell_type": "code",
   "execution_count": 2,
   "metadata": {},
   "outputs": [
    {
     "output_type": "stream",
     "name": "stdout",
     "text": [
      "2581bdee76b792a333e5b261ed2fcedc867c9acd1cb4ad17212dfc837d1c456a\n"
     ]
    }
   ],
   "source": [
    "! docker run --rm -d -p 9000:9000/tcp sklearn_iris2:0.1"
   ]
  },
  {
   "source": [
    "Tag is returned in meta field:"
   ],
   "cell_type": "markdown",
   "metadata": {}
  },
  {
   "cell_type": "code",
   "execution_count": 5,
   "metadata": {},
   "outputs": [
    {
     "output_type": "stream",
     "name": "stdout",
     "text": [
      "# port 9000 exposed through the sklearn container\ncurl -s -X POST http://localhost:9000/api/v1.0/predictions \\\n    -H 'Content-Type: application/json' \\\n    -d '{ \"data\": { \"ndarray\": [[1,2,3,4]] } }'"
     ]
    }
   ],
   "source": [
    "! cat api_access_curl.sh;"
   ]
  },
  {
   "cell_type": "code",
   "execution_count": 9,
   "metadata": {},
   "outputs": [
    {
     "output_type": "stream",
     "name": "stdout",
     "text": [
      "{\"data\":{\"names\":[\"proba\"],\"ndarray\":[[0.39731466202150834]]},\"meta\":{\"requestPath\":{\"classifier\":\"seldonio/mock_classifier:1.6.0-dev\"}}}\n"
     ]
    }
   ],
   "source": [
    "!./api_access_curl.sh"
   ]
  },
  {
   "source": [
    "### Checking Health STatus"
   ],
   "cell_type": "markdown",
   "metadata": {}
  },
  {
   "cell_type": "code",
   "execution_count": 10,
   "metadata": {},
   "outputs": [
    {
     "output_type": "stream",
     "name": "stdout",
     "text": [
      "404 page not found\n"
     ]
    }
   ],
   "source": [
    "! curl localhost:9000/health/ping"
   ]
  },
  {
   "cell_type": "code",
   "execution_count": 11,
   "metadata": {},
   "outputs": [
    {
     "output_type": "stream",
     "name": "stdout",
     "text": [
      "404 page not found\n"
     ]
    }
   ],
   "source": [
    "! curl localhost:9000/health/status"
   ]
  },
  {
   "source": [
    "## Push to Registry\n",
    "\n",
    "Push to the registry of your choice (content omitted)"
   ],
   "cell_type": "markdown",
   "metadata": {}
  },
  {
   "source": [
    "## K8s Access\n",
    "\n",
    "(portforwarding)"
   ],
   "cell_type": "markdown",
   "metadata": {}
  },
  {
   "cell_type": "code",
   "execution_count": 38,
   "metadata": {},
   "outputs": [
    {
     "output_type": "stream",
     "name": "stdout",
     "text": [
      "# port 9000 exposed through the sklearn container\n",
      "curl -s -X POST http://localhost:9000/api/v1.0/predictions \\\n",
      "    -H 'Content-Type: application/json' \\\n",
      "    -d '{ \"data\": { \"ndarray\": [[1,2,3,4]] } }'\n",
      "\n",
      "# port 8000 exposed through seldon-container-engine container\n",
      "# Swagger API doc at http://localhost:8000/api/v1.0/doc/\n",
      "\n",
      "{\"data\":{\"names\":[],\"ndarray\":[2]},\"meta\":{\"requestPath\":{\"classifier-custom\":\"chritter/sklearn_iris:0.4\"}}}\n"
     ]
    }
   ],
   "source": [
    "! cat api_access_curl.sh; ./api_access_curl.sh"
   ]
  },
  {
   "cell_type": "code",
   "execution_count": null,
   "metadata": {},
   "outputs": [],
   "source": []
  }
 ],
 "metadata": {
  "kernelspec": {
   "name": "python3",
   "display_name": "Python 3.7.10 64-bit ('translators_mlflow': conda)"
  },
  "language_info": {
   "codemirror_mode": {
    "name": "ipython",
    "version": 3
   },
   "file_extension": ".py",
   "mimetype": "text/x-python",
   "name": "python",
   "nbconvert_exporter": "python",
   "pygments_lexer": "ipython3",
   "version": "3.7.10"
  },
  "interpreter": {
   "hash": "9997e183861e8d4f0874ff606d1a029c67cf384cd69175c81b40efaba25a6ee8"
  }
 },
 "nbformat": 4,
 "nbformat_minor": 5
}