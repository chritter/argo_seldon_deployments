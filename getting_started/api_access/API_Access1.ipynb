{
 "cells": [
  {
   "cell_type": "markdown",
   "id": "b632af5e-8624-4dc3-ae54-6add3185dd2f",
   "metadata": {},
   "source": [
    "# Seldon Deployment API Access"
   ]
  },
  {
   "cell_type": "code",
   "execution_count": 7,
   "id": "c61b70f9-125a-4df5-aca2-e3366992edad",
   "metadata": {
    "execution": {
     "iopub.execute_input": "2021-08-18T17:57:52.582794Z",
     "iopub.status.busy": "2021-08-18T17:57:52.580653Z",
     "iopub.status.idle": "2021-08-18T17:57:52.625935Z",
     "shell.execute_reply": "2021-08-18T17:57:52.623860Z",
     "shell.execute_reply.started": "2021-08-18T17:57:52.582729Z"
    },
    "tags": []
   },
   "outputs": [],
   "source": [
    "import seldon_core\n",
    "import numpy as np"
   ]
  },
  {
   "cell_type": "code",
   "execution_count": 2,
   "id": "864627eb-78af-48e9-9f71-b190e5c02fa0",
   "metadata": {
    "execution": {
     "iopub.execute_input": "2021-08-18T17:56:57.008662Z",
     "iopub.status.busy": "2021-08-18T17:56:57.006929Z",
     "iopub.status.idle": "2021-08-18T17:56:57.081039Z",
     "shell.execute_reply": "2021-08-18T17:56:57.051978Z",
     "shell.execute_reply.started": "2021-08-18T17:56:57.008602Z"
    }
   },
   "outputs": [
    {
     "data": {
      "text/plain": [
       "'1.10.0'"
      ]
     },
     "execution_count": 2,
     "metadata": {},
     "output_type": "execute_result"
    }
   ],
   "source": [
    "seldon_core.__version__"
   ]
  },
  {
   "cell_type": "code",
   "execution_count": 3,
   "id": "88c54a56-9f94-4dec-aff9-ab44d4d7bfce",
   "metadata": {
    "execution": {
     "iopub.execute_input": "2021-08-18T17:57:09.753893Z",
     "iopub.status.busy": "2021-08-18T17:57:09.753200Z",
     "iopub.status.idle": "2021-08-18T17:57:11.302411Z",
     "shell.execute_reply": "2021-08-18T17:57:11.300801Z",
     "shell.execute_reply.started": "2021-08-18T17:57:09.753846Z"
    }
   },
   "outputs": [],
   "source": [
    "from seldon_core.seldon_client import SeldonClient"
   ]
  },
  {
   "cell_type": "markdown",
   "id": "ab921de4-da3e-429a-b19a-cb300c971105",
   "metadata": {},
   "source": [
    "## I. With Pod Port Forwarding"
   ]
  },
  {
   "cell_type": "code",
   "execution_count": 4,
   "id": "d6b939fd-e22e-46da-9d1d-bed909a80816",
   "metadata": {
    "execution": {
     "iopub.execute_input": "2021-08-18T17:57:37.159392Z",
     "iopub.status.busy": "2021-08-18T17:57:37.158646Z",
     "iopub.status.idle": "2021-08-18T17:57:37.173505Z",
     "shell.execute_reply": "2021-08-18T17:57:37.168190Z",
     "shell.execute_reply.started": "2021-08-18T17:57:37.159334Z"
    }
   },
   "outputs": [],
   "source": [
    "sc = SeldonClient(microservice_endpoint=\"0.0.0.0:9000\")"
   ]
  },
  {
   "cell_type": "code",
   "execution_count": 10,
   "id": "b70f9ab4-0ccd-47de-94e3-7c93828c142a",
   "metadata": {
    "execution": {
     "iopub.execute_input": "2021-08-18T17:58:22.169360Z",
     "iopub.status.busy": "2021-08-18T17:58:22.168082Z",
     "iopub.status.idle": "2021-08-18T17:58:22.174882Z",
     "shell.execute_reply": "2021-08-18T17:58:22.174233Z",
     "shell.execute_reply.started": "2021-08-18T17:58:22.169297Z"
    },
    "tags": []
   },
   "outputs": [],
   "source": [
    "batch = np.array([[1,2,3,4]])\n",
    "payload_type = \"ndarray\""
   ]
  },
  {
   "cell_type": "code",
   "execution_count": 15,
   "id": "a4ca195d-a252-44b2-a43d-62e9f28218e9",
   "metadata": {
    "execution": {
     "iopub.execute_input": "2021-08-18T18:01:04.832537Z",
     "iopub.status.busy": "2021-08-18T18:01:04.831933Z",
     "iopub.status.idle": "2021-08-18T18:01:04.972688Z",
     "shell.execute_reply": "2021-08-18T18:01:04.969401Z",
     "shell.execute_reply.started": "2021-08-18T18:01:04.832501Z"
    },
    "tags": []
   },
   "outputs": [
    {
     "data": {
      "text/plain": [
       "Success:True message:\n",
       "Request:\n",
       "data {\n",
       "  ndarray {\n",
       "    values {\n",
       "      list_value {\n",
       "        values {\n",
       "          number_value: 1.0\n",
       "        }\n",
       "        values {\n",
       "          number_value: 2.0\n",
       "        }\n",
       "        values {\n",
       "          number_value: 3.0\n",
       "        }\n",
       "        values {\n",
       "          number_value: 4.0\n",
       "        }\n",
       "      }\n",
       "    }\n",
       "  }\n",
       "}\n",
       "\n",
       "Response:\n",
       "meta {\n",
       "  requestPath {\n",
       "    key: \"classifier\"\n",
       "    value: \"seldonio/sklearnserver:1.10.0\"\n",
       "  }\n",
       "}\n",
       "data {\n",
       "  names: \"t:0\"\n",
       "  names: \"t:1\"\n",
       "  names: \"t:2\"\n",
       "  ndarray {\n",
       "    values {\n",
       "      list_value {\n",
       "        values {\n",
       "          number_value: 0.0006985194531162835\n",
       "        }\n",
       "        values {\n",
       "          number_value: 0.00366803903943666\n",
       "        }\n",
       "        values {\n",
       "          number_value: 0.995633441507447\n",
       "        }\n",
       "      }\n",
       "    }\n",
       "  }\n",
       "}"
      ]
     },
     "execution_count": 15,
     "metadata": {},
     "output_type": "execute_result"
    }
   ],
   "source": [
    "sc.microservice(\n",
    "    data=batch,\n",
    "    method=\"predict\",\n",
    "    payload_type=payload_type,\n",
    "    )"
   ]
  },
  {
   "cell_type": "code",
   "execution_count": 13,
   "id": "e035d33f-61f2-4635-8c31-77a131ed4471",
   "metadata": {
    "execution": {
     "iopub.execute_input": "2021-08-18T17:59:45.131541Z",
     "iopub.status.busy": "2021-08-18T17:59:45.130903Z",
     "iopub.status.idle": "2021-08-18T17:59:45.336553Z",
     "shell.execute_reply": "2021-08-18T17:59:45.325826Z",
     "shell.execute_reply.started": "2021-08-18T17:59:45.131485Z"
    },
    "tags": []
   },
   "outputs": [
    {
     "data": {
      "text/plain": [
       "\u001b[0;31mSignature:\u001b[0m\n",
       "\u001b[0msc\u001b[0m\u001b[0;34m.\u001b[0m\u001b[0mmicroservice\u001b[0m\u001b[0;34m(\u001b[0m\u001b[0;34m\u001b[0m\n",
       "\u001b[0;34m\u001b[0m    \u001b[0mgateway\u001b[0m\u001b[0;34m:\u001b[0m \u001b[0mstr\u001b[0m \u001b[0;34m=\u001b[0m \u001b[0;32mNone\u001b[0m\u001b[0;34m,\u001b[0m\u001b[0;34m\u001b[0m\n",
       "\u001b[0;34m\u001b[0m    \u001b[0mtransport\u001b[0m\u001b[0;34m:\u001b[0m \u001b[0mstr\u001b[0m \u001b[0;34m=\u001b[0m \u001b[0;32mNone\u001b[0m\u001b[0;34m,\u001b[0m\u001b[0;34m\u001b[0m\n",
       "\u001b[0;34m\u001b[0m    \u001b[0mdeployment_name\u001b[0m\u001b[0;34m:\u001b[0m \u001b[0mstr\u001b[0m \u001b[0;34m=\u001b[0m \u001b[0;32mNone\u001b[0m\u001b[0;34m,\u001b[0m\u001b[0;34m\u001b[0m\n",
       "\u001b[0;34m\u001b[0m    \u001b[0mpayload_type\u001b[0m\u001b[0;34m:\u001b[0m \u001b[0mstr\u001b[0m \u001b[0;34m=\u001b[0m \u001b[0;32mNone\u001b[0m\u001b[0;34m,\u001b[0m\u001b[0;34m\u001b[0m\n",
       "\u001b[0;34m\u001b[0m    \u001b[0mgateway_endpoint\u001b[0m\u001b[0;34m:\u001b[0m \u001b[0mstr\u001b[0m \u001b[0;34m=\u001b[0m \u001b[0;32mNone\u001b[0m\u001b[0;34m,\u001b[0m\u001b[0;34m\u001b[0m\n",
       "\u001b[0;34m\u001b[0m    \u001b[0mmicroservice_endpoint\u001b[0m\u001b[0;34m:\u001b[0m \u001b[0mstr\u001b[0m \u001b[0;34m=\u001b[0m \u001b[0;32mNone\u001b[0m\u001b[0;34m,\u001b[0m\u001b[0;34m\u001b[0m\n",
       "\u001b[0;34m\u001b[0m    \u001b[0mmethod\u001b[0m\u001b[0;34m:\u001b[0m \u001b[0mstr\u001b[0m \u001b[0;34m=\u001b[0m \u001b[0;32mNone\u001b[0m\u001b[0;34m,\u001b[0m\u001b[0;34m\u001b[0m\n",
       "\u001b[0;34m\u001b[0m    \u001b[0mshape\u001b[0m\u001b[0;34m:\u001b[0m \u001b[0mTuple\u001b[0m \u001b[0;34m=\u001b[0m \u001b[0;34m(\u001b[0m\u001b[0;36m1\u001b[0m\u001b[0;34m,\u001b[0m \u001b[0;36m1\u001b[0m\u001b[0;34m)\u001b[0m\u001b[0;34m,\u001b[0m\u001b[0;34m\u001b[0m\n",
       "\u001b[0;34m\u001b[0m    \u001b[0mnamespace\u001b[0m\u001b[0;34m:\u001b[0m \u001b[0mstr\u001b[0m \u001b[0;34m=\u001b[0m \u001b[0;32mNone\u001b[0m\u001b[0;34m,\u001b[0m\u001b[0;34m\u001b[0m\n",
       "\u001b[0;34m\u001b[0m    \u001b[0mdata\u001b[0m\u001b[0;34m:\u001b[0m \u001b[0mnumpy\u001b[0m\u001b[0;34m.\u001b[0m\u001b[0mndarray\u001b[0m \u001b[0;34m=\u001b[0m \u001b[0;32mNone\u001b[0m\u001b[0;34m,\u001b[0m\u001b[0;34m\u001b[0m\n",
       "\u001b[0;34m\u001b[0m    \u001b[0mdatas\u001b[0m\u001b[0;34m:\u001b[0m \u001b[0mList\u001b[0m\u001b[0;34m[\u001b[0m\u001b[0mnumpy\u001b[0m\u001b[0;34m.\u001b[0m\u001b[0mndarray\u001b[0m\u001b[0;34m]\u001b[0m \u001b[0;34m=\u001b[0m \u001b[0;32mNone\u001b[0m\u001b[0;34m,\u001b[0m\u001b[0;34m\u001b[0m\n",
       "\u001b[0;34m\u001b[0m    \u001b[0mndatas\u001b[0m\u001b[0;34m:\u001b[0m \u001b[0mint\u001b[0m \u001b[0;34m=\u001b[0m \u001b[0;32mNone\u001b[0m\u001b[0;34m,\u001b[0m\u001b[0;34m\u001b[0m\n",
       "\u001b[0;34m\u001b[0m    \u001b[0mbin_data\u001b[0m\u001b[0;34m:\u001b[0m \u001b[0mUnion\u001b[0m\u001b[0;34m[\u001b[0m\u001b[0mbytes\u001b[0m\u001b[0;34m,\u001b[0m \u001b[0mbytearray\u001b[0m\u001b[0;34m]\u001b[0m \u001b[0;34m=\u001b[0m \u001b[0;32mNone\u001b[0m\u001b[0;34m,\u001b[0m\u001b[0;34m\u001b[0m\n",
       "\u001b[0;34m\u001b[0m    \u001b[0mstr_data\u001b[0m\u001b[0;34m:\u001b[0m \u001b[0mstr\u001b[0m \u001b[0;34m=\u001b[0m \u001b[0;32mNone\u001b[0m\u001b[0;34m,\u001b[0m\u001b[0;34m\u001b[0m\n",
       "\u001b[0;34m\u001b[0m    \u001b[0mjson_data\u001b[0m\u001b[0;34m:\u001b[0m \u001b[0mUnion\u001b[0m\u001b[0;34m[\u001b[0m\u001b[0mstr\u001b[0m\u001b[0;34m,\u001b[0m \u001b[0mList\u001b[0m\u001b[0;34m,\u001b[0m \u001b[0mDict\u001b[0m\u001b[0;34m]\u001b[0m \u001b[0;34m=\u001b[0m \u001b[0;32mNone\u001b[0m\u001b[0;34m,\u001b[0m\u001b[0;34m\u001b[0m\n",
       "\u001b[0;34m\u001b[0m    \u001b[0mcustom_data\u001b[0m\u001b[0;34m:\u001b[0m \u001b[0mgoogle\u001b[0m\u001b[0;34m.\u001b[0m\u001b[0mprotobuf\u001b[0m\u001b[0;34m.\u001b[0m\u001b[0many_pb2\u001b[0m\u001b[0;34m.\u001b[0m\u001b[0mAny\u001b[0m \u001b[0;34m=\u001b[0m \u001b[0;32mNone\u001b[0m\u001b[0;34m,\u001b[0m\u001b[0;34m\u001b[0m\n",
       "\u001b[0;34m\u001b[0m    \u001b[0mnames\u001b[0m\u001b[0;34m:\u001b[0m \u001b[0mIterable\u001b[0m\u001b[0;34m[\u001b[0m\u001b[0mstr\u001b[0m\u001b[0;34m]\u001b[0m \u001b[0;34m=\u001b[0m \u001b[0;32mNone\u001b[0m\u001b[0;34m,\u001b[0m\u001b[0;34m\u001b[0m\n",
       "\u001b[0;34m\u001b[0m\u001b[0;34m)\u001b[0m \u001b[0;34m->\u001b[0m \u001b[0mUnion\u001b[0m\u001b[0;34m[\u001b[0m\u001b[0mseldon_core\u001b[0m\u001b[0;34m.\u001b[0m\u001b[0mseldon_client\u001b[0m\u001b[0;34m.\u001b[0m\u001b[0mSeldonClientPrediction\u001b[0m\u001b[0;34m,\u001b[0m \u001b[0mseldon_core\u001b[0m\u001b[0;34m.\u001b[0m\u001b[0mseldon_client\u001b[0m\u001b[0;34m.\u001b[0m\u001b[0mSeldonClientCombine\u001b[0m\u001b[0;34m]\u001b[0m\u001b[0;34m\u001b[0m\u001b[0;34m\u001b[0m\u001b[0m\n",
       "\u001b[0;31mDocstring:\u001b[0m\n",
       "Parameters\n",
       "----------\n",
       "gateway\n",
       "   API Gateway - either ambassador, istio or seldon\n",
       "transport\n",
       "   API transport - grpc or rest\n",
       "deployment_name\n",
       "   name of seldon deployment\n",
       "payload_type\n",
       "   payload - tensor, ndarray or tftensor\n",
       "gateway_endpoint\n",
       "   Gateway endpoint\n",
       "microservice_endpoint\n",
       "   Running microservice endpoint\n",
       "grpc_max_send_message_length\n",
       "   Max grpc send message size in bytes\n",
       "grpc_max_receive_message_length\n",
       "   Max grpc receive message size in bytes\n",
       "method\n",
       "   The microservice method to call\n",
       "shape\n",
       "   The shape of the data to send\n",
       "namespace\n",
       "   k8s namespace of running deployment\n",
       "data\n",
       "   Numpy Array Payload to send\n",
       "bin_data\n",
       "   Binary payload to send - will override data\n",
       "str_data\n",
       "   String payload to send - will override data\n",
       "json_data\n",
       "   String payload to send - will override data\n",
       "custom_data\n",
       "   Custom payload to send - will override data\n",
       "ndatas\n",
       "   Multiple numpy arrays to send for aggregation\n",
       "bin_data\n",
       "   Binary data payload\n",
       "str_data\n",
       "   String data payload\n",
       "names\n",
       "   Column names\n",
       "\n",
       "Returns\n",
       "-------\n",
       "   A prediction result\n",
       "\u001b[0;31mFile:\u001b[0m      ~/opt/anaconda3/envs/seldexamp/lib/python3.8/site-packages/seldon_core/seldon_client.py\n",
       "\u001b[0;31mType:\u001b[0m      method\n"
      ]
     },
     "metadata": {},
     "output_type": "display_data"
    }
   ],
   "source": [
    "?sc.microservice"
   ]
  },
  {
   "cell_type": "code",
   "execution_count": 17,
   "id": "405f02c4-e9ba-4de8-aa51-1c29019443ef",
   "metadata": {
    "execution": {
     "iopub.execute_input": "2021-08-18T18:01:35.694108Z",
     "iopub.status.busy": "2021-08-18T18:01:35.693529Z",
     "iopub.status.idle": "2021-08-18T18:01:35.807651Z",
     "shell.execute_reply": "2021-08-18T18:01:35.805980Z",
     "shell.execute_reply.started": "2021-08-18T18:01:35.694066Z"
    },
    "tags": []
   },
   "outputs": [
    {
     "data": {
      "text/plain": [
       "\u001b[0;31mSignature:\u001b[0m\n",
       "\u001b[0msc\u001b[0m\u001b[0;34m.\u001b[0m\u001b[0mpredict\u001b[0m\u001b[0;34m(\u001b[0m\u001b[0;34m\u001b[0m\n",
       "\u001b[0;34m\u001b[0m    \u001b[0mgateway\u001b[0m\u001b[0;34m:\u001b[0m \u001b[0mstr\u001b[0m \u001b[0;34m=\u001b[0m \u001b[0;32mNone\u001b[0m\u001b[0;34m,\u001b[0m\u001b[0;34m\u001b[0m\n",
       "\u001b[0;34m\u001b[0m    \u001b[0mtransport\u001b[0m\u001b[0;34m:\u001b[0m \u001b[0mstr\u001b[0m \u001b[0;34m=\u001b[0m \u001b[0;32mNone\u001b[0m\u001b[0;34m,\u001b[0m\u001b[0;34m\u001b[0m\n",
       "\u001b[0;34m\u001b[0m    \u001b[0mdeployment_name\u001b[0m\u001b[0;34m:\u001b[0m \u001b[0mstr\u001b[0m \u001b[0;34m=\u001b[0m \u001b[0;32mNone\u001b[0m\u001b[0;34m,\u001b[0m\u001b[0;34m\u001b[0m\n",
       "\u001b[0;34m\u001b[0m    \u001b[0mpayload_type\u001b[0m\u001b[0;34m:\u001b[0m \u001b[0mstr\u001b[0m \u001b[0;34m=\u001b[0m \u001b[0;32mNone\u001b[0m\u001b[0;34m,\u001b[0m\u001b[0;34m\u001b[0m\n",
       "\u001b[0;34m\u001b[0m    \u001b[0mgateway_endpoint\u001b[0m\u001b[0;34m:\u001b[0m \u001b[0mstr\u001b[0m \u001b[0;34m=\u001b[0m \u001b[0;32mNone\u001b[0m\u001b[0;34m,\u001b[0m\u001b[0;34m\u001b[0m\n",
       "\u001b[0;34m\u001b[0m    \u001b[0mmicroservice_endpoint\u001b[0m\u001b[0;34m:\u001b[0m \u001b[0mstr\u001b[0m \u001b[0;34m=\u001b[0m \u001b[0;32mNone\u001b[0m\u001b[0;34m,\u001b[0m\u001b[0;34m\u001b[0m\n",
       "\u001b[0;34m\u001b[0m    \u001b[0mmethod\u001b[0m\u001b[0;34m:\u001b[0m \u001b[0mstr\u001b[0m \u001b[0;34m=\u001b[0m \u001b[0;32mNone\u001b[0m\u001b[0;34m,\u001b[0m\u001b[0;34m\u001b[0m\n",
       "\u001b[0;34m\u001b[0m    \u001b[0mshape\u001b[0m\u001b[0;34m:\u001b[0m \u001b[0mTuple\u001b[0m \u001b[0;34m=\u001b[0m \u001b[0;34m(\u001b[0m\u001b[0;36m1\u001b[0m\u001b[0;34m,\u001b[0m \u001b[0;36m1\u001b[0m\u001b[0;34m)\u001b[0m\u001b[0;34m,\u001b[0m\u001b[0;34m\u001b[0m\n",
       "\u001b[0;34m\u001b[0m    \u001b[0mnamespace\u001b[0m\u001b[0;34m:\u001b[0m \u001b[0mstr\u001b[0m \u001b[0;34m=\u001b[0m \u001b[0;32mNone\u001b[0m\u001b[0;34m,\u001b[0m\u001b[0;34m\u001b[0m\n",
       "\u001b[0;34m\u001b[0m    \u001b[0mdata\u001b[0m\u001b[0;34m:\u001b[0m \u001b[0mnumpy\u001b[0m\u001b[0;34m.\u001b[0m\u001b[0mndarray\u001b[0m \u001b[0;34m=\u001b[0m \u001b[0;32mNone\u001b[0m\u001b[0;34m,\u001b[0m\u001b[0;34m\u001b[0m\n",
       "\u001b[0;34m\u001b[0m    \u001b[0mbin_data\u001b[0m\u001b[0;34m:\u001b[0m \u001b[0mUnion\u001b[0m\u001b[0;34m[\u001b[0m\u001b[0mbytes\u001b[0m\u001b[0;34m,\u001b[0m \u001b[0mbytearray\u001b[0m\u001b[0;34m]\u001b[0m \u001b[0;34m=\u001b[0m \u001b[0;32mNone\u001b[0m\u001b[0;34m,\u001b[0m\u001b[0;34m\u001b[0m\n",
       "\u001b[0;34m\u001b[0m    \u001b[0mstr_data\u001b[0m\u001b[0;34m:\u001b[0m \u001b[0mstr\u001b[0m \u001b[0;34m=\u001b[0m \u001b[0;32mNone\u001b[0m\u001b[0;34m,\u001b[0m\u001b[0;34m\u001b[0m\n",
       "\u001b[0;34m\u001b[0m    \u001b[0mjson_data\u001b[0m\u001b[0;34m:\u001b[0m \u001b[0mUnion\u001b[0m\u001b[0;34m[\u001b[0m\u001b[0mstr\u001b[0m\u001b[0;34m,\u001b[0m \u001b[0mList\u001b[0m\u001b[0;34m,\u001b[0m \u001b[0mDict\u001b[0m\u001b[0;34m]\u001b[0m \u001b[0;34m=\u001b[0m \u001b[0;32mNone\u001b[0m\u001b[0;34m,\u001b[0m\u001b[0;34m\u001b[0m\n",
       "\u001b[0;34m\u001b[0m    \u001b[0mcustom_data\u001b[0m\u001b[0;34m:\u001b[0m \u001b[0mgoogle\u001b[0m\u001b[0;34m.\u001b[0m\u001b[0mprotobuf\u001b[0m\u001b[0;34m.\u001b[0m\u001b[0many_pb2\u001b[0m\u001b[0;34m.\u001b[0m\u001b[0mAny\u001b[0m \u001b[0;34m=\u001b[0m \u001b[0;32mNone\u001b[0m\u001b[0;34m,\u001b[0m\u001b[0;34m\u001b[0m\n",
       "\u001b[0;34m\u001b[0m    \u001b[0mnames\u001b[0m\u001b[0;34m:\u001b[0m \u001b[0mIterable\u001b[0m\u001b[0;34m[\u001b[0m\u001b[0mstr\u001b[0m\u001b[0;34m]\u001b[0m \u001b[0;34m=\u001b[0m \u001b[0;32mNone\u001b[0m\u001b[0;34m,\u001b[0m\u001b[0;34m\u001b[0m\n",
       "\u001b[0;34m\u001b[0m    \u001b[0mgateway_prefix\u001b[0m\u001b[0;34m:\u001b[0m \u001b[0mstr\u001b[0m \u001b[0;34m=\u001b[0m \u001b[0;32mNone\u001b[0m\u001b[0;34m,\u001b[0m\u001b[0;34m\u001b[0m\n",
       "\u001b[0;34m\u001b[0m    \u001b[0mheaders\u001b[0m\u001b[0;34m:\u001b[0m \u001b[0mDict\u001b[0m \u001b[0;34m=\u001b[0m \u001b[0;32mNone\u001b[0m\u001b[0;34m,\u001b[0m\u001b[0;34m\u001b[0m\n",
       "\u001b[0;34m\u001b[0m    \u001b[0mhttp_path\u001b[0m\u001b[0;34m:\u001b[0m \u001b[0mstr\u001b[0m \u001b[0;34m=\u001b[0m \u001b[0;32mNone\u001b[0m\u001b[0;34m,\u001b[0m\u001b[0;34m\u001b[0m\n",
       "\u001b[0;34m\u001b[0m    \u001b[0mmeta\u001b[0m\u001b[0;34m:\u001b[0m \u001b[0mDict\u001b[0m \u001b[0;34m=\u001b[0m \u001b[0;32mNone\u001b[0m\u001b[0;34m,\u001b[0m\u001b[0;34m\u001b[0m\n",
       "\u001b[0;34m\u001b[0m    \u001b[0mclient_return_type\u001b[0m\u001b[0;34m:\u001b[0m \u001b[0mstr\u001b[0m \u001b[0;34m=\u001b[0m \u001b[0;32mNone\u001b[0m\u001b[0;34m,\u001b[0m\u001b[0;34m\u001b[0m\n",
       "\u001b[0;34m\u001b[0m    \u001b[0mraw_data\u001b[0m\u001b[0;34m:\u001b[0m \u001b[0mDict\u001b[0m \u001b[0;34m=\u001b[0m \u001b[0;32mNone\u001b[0m\u001b[0;34m,\u001b[0m\u001b[0;34m\u001b[0m\n",
       "\u001b[0;34m\u001b[0m    \u001b[0mssl\u001b[0m\u001b[0;34m:\u001b[0m \u001b[0mbool\u001b[0m \u001b[0;34m=\u001b[0m \u001b[0;32mNone\u001b[0m\u001b[0;34m,\u001b[0m\u001b[0;34m\u001b[0m\n",
       "\u001b[0;34m\u001b[0m\u001b[0;34m)\u001b[0m \u001b[0;34m->\u001b[0m \u001b[0mseldon_core\u001b[0m\u001b[0;34m.\u001b[0m\u001b[0mseldon_client\u001b[0m\u001b[0;34m.\u001b[0m\u001b[0mSeldonClientPrediction\u001b[0m\u001b[0;34m\u001b[0m\u001b[0;34m\u001b[0m\u001b[0m\n",
       "\u001b[0;31mDocstring:\u001b[0m\n",
       "Parameters\n",
       "----------\n",
       "gateway\n",
       "   API Gateway - either ambassador, istio or seldon\n",
       "transport\n",
       "   API transport - grpc or rest\n",
       "namespace\n",
       "   k8s namespace of running deployment\n",
       "deployment_name\n",
       "   name of seldon deployment\n",
       "payload_type\n",
       "   type of payload - tensor, ndarray or tftensor\n",
       "gateway_endpoint\n",
       "   Gateway endpoint\n",
       "microservice_endpoint\n",
       "   Running microservice endpoint\n",
       "grpc_max_send_message_length\n",
       "   Max grpc send message size in bytes\n",
       "grpc_max_receive_message_length\n",
       "   Max grpc receive message size in bytes\n",
       "data\n",
       "   Numpy Array Payload to send\n",
       "bin_data\n",
       "   Binary payload to send - will override data\n",
       "str_data\n",
       "   String payload to send - will override data\n",
       "json_data\n",
       "   JSON payload to send - will override data\n",
       "custom_data\n",
       "   Custom payload to send - will override data\n",
       "names\n",
       "   Column names\n",
       "gateway_prefix\n",
       "   prefix path for gateway URL endpoint\n",
       "headers\n",
       "   Headers to add to request\n",
       "http_path:\n",
       "   Custom http path for predict call to use\n",
       "meta:\n",
       "   Custom meta map, supplied as tags\n",
       "client_return_type\n",
       "    the return type of all functions can be either dict or proto\n",
       "raw_data\n",
       "    Raw payload, a dictionary representing the json request or the raw grpc proto\n",
       "\n",
       "Returns\n",
       "-------\n",
       "\u001b[0;31mFile:\u001b[0m      ~/opt/anaconda3/envs/seldexamp/lib/python3.8/site-packages/seldon_core/seldon_client.py\n",
       "\u001b[0;31mType:\u001b[0m      method\n"
      ]
     },
     "metadata": {},
     "output_type": "display_data"
    }
   ],
   "source": [
    "sc.predict?"
   ]
  },
  {
   "cell_type": "code",
   "execution_count": null,
   "id": "392a4fb3-55a9-4d66-a9f8-84275f247d98",
   "metadata": {},
   "outputs": [],
   "source": []
  }
 ],
 "metadata": {
  "kernelspec": {
   "display_name": "Python 3 (ipykernel)",
   "language": "python",
   "name": "python3"
  },
  "language_info": {
   "codemirror_mode": {
    "name": "ipython",
    "version": 3
   },
   "file_extension": ".py",
   "mimetype": "text/x-python",
   "name": "python",
   "nbconvert_exporter": "python",
   "pygments_lexer": "ipython3",
   "version": "3.8.10"
  }
 },
 "nbformat": 4,
 "nbformat_minor": 5
}
