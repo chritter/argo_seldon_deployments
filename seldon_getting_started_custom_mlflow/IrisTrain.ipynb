{
 "cells": [
  {
   "cell_type": "markdown",
   "id": "ac1fb712-18ae-4383-b84d-a748677e19fc",
   "metadata": {},
   "source": [
    "# Run Sklearn Model and Save to K8s MLflow"
   ]
  },
  {
   "cell_type": "code",
   "execution_count": 39,
   "id": "09af1871-6230-484b-9054-9bc995382748",
   "metadata": {
    "execution": {
     "iopub.execute_input": "2021-08-21T16:27:59.043070Z",
     "iopub.status.busy": "2021-08-21T16:27:59.042553Z",
     "iopub.status.idle": "2021-08-21T16:27:59.074201Z",
     "shell.execute_reply": "2021-08-21T16:27:59.070001Z",
     "shell.execute_reply.started": "2021-08-21T16:27:59.043035Z"
    },
    "tags": []
   },
   "outputs": [],
   "source": [
    "import sklearn\n",
    "from sklearn.ensemble import RandomForestClassifier\n",
    "from sklearn import datasets\n",
    "import numpy as np\n",
    "import joblib\n",
    "from joblib import dump, load\n",
    "import mlflow\n",
    "import os"
   ]
  },
  {
   "cell_type": "code",
   "execution_count": 2,
   "id": "eb0a95df-7f7a-469b-b3aa-38f8d0fa08f7",
   "metadata": {
    "execution": {
     "iopub.execute_input": "2021-08-21T16:24:07.928497Z",
     "iopub.status.busy": "2021-08-21T16:24:07.927879Z",
     "iopub.status.idle": "2021-08-21T16:24:08.007931Z",
     "shell.execute_reply": "2021-08-21T16:24:08.006025Z",
     "shell.execute_reply.started": "2021-08-21T16:24:07.928465Z"
    },
    "tags": []
   },
   "outputs": [
    {
     "data": {
      "text/plain": [
       "'0.24.2'"
      ]
     },
     "execution_count": 2,
     "metadata": {},
     "output_type": "execute_result"
    }
   ],
   "source": [
    "sklearn.__version__"
   ]
  },
  {
   "cell_type": "code",
   "execution_count": 3,
   "id": "3c527cee-c2a9-4317-b9dc-20a21974e5f1",
   "metadata": {
    "execution": {
     "iopub.execute_input": "2021-08-21T16:24:08.016586Z",
     "iopub.status.busy": "2021-08-21T16:24:08.016109Z",
     "iopub.status.idle": "2021-08-21T16:24:08.091838Z",
     "shell.execute_reply": "2021-08-21T16:24:08.084511Z",
     "shell.execute_reply.started": "2021-08-21T16:24:08.016553Z"
    },
    "tags": []
   },
   "outputs": [
    {
     "data": {
      "text/plain": [
       "'1.0.1'"
      ]
     },
     "execution_count": 3,
     "metadata": {},
     "output_type": "execute_result"
    }
   ],
   "source": [
    "joblib.__version__"
   ]
  },
  {
   "cell_type": "code",
   "execution_count": 4,
   "id": "f4b4b1a6-eaed-4f5a-ab9b-abc0bb0eb043",
   "metadata": {
    "execution": {
     "iopub.execute_input": "2021-08-21T16:24:08.108992Z",
     "iopub.status.busy": "2021-08-21T16:24:08.108544Z",
     "iopub.status.idle": "2021-08-21T16:24:08.147025Z",
     "shell.execute_reply": "2021-08-21T16:24:08.144194Z",
     "shell.execute_reply.started": "2021-08-21T16:24:08.108944Z"
    },
    "tags": []
   },
   "outputs": [],
   "source": [
    "iris = datasets.load_iris()"
   ]
  },
  {
   "cell_type": "code",
   "execution_count": 5,
   "id": "ef67c7e0-f702-4e12-87d3-6eaeeb5483b4",
   "metadata": {
    "execution": {
     "iopub.execute_input": "2021-08-21T16:24:08.158060Z",
     "iopub.status.busy": "2021-08-21T16:24:08.150482Z",
     "iopub.status.idle": "2021-08-21T16:24:08.208800Z",
     "shell.execute_reply": "2021-08-21T16:24:08.192466Z",
     "shell.execute_reply.started": "2021-08-21T16:24:08.157980Z"
    },
    "tags": []
   },
   "outputs": [
    {
     "data": {
      "text/plain": [
       "(150, 4)"
      ]
     },
     "execution_count": 5,
     "metadata": {},
     "output_type": "execute_result"
    }
   ],
   "source": [
    "iris['data'].shape"
   ]
  },
  {
   "cell_type": "code",
   "execution_count": 6,
   "id": "45eec3fa-b84b-47e8-9216-89d436a1dc78",
   "metadata": {
    "execution": {
     "iopub.execute_input": "2021-08-21T16:24:08.237501Z",
     "iopub.status.busy": "2021-08-21T16:24:08.226678Z",
     "iopub.status.idle": "2021-08-21T16:24:08.259856Z",
     "shell.execute_reply": "2021-08-21T16:24:08.256290Z",
     "shell.execute_reply.started": "2021-08-21T16:24:08.237429Z"
    },
    "tags": []
   },
   "outputs": [
    {
     "data": {
      "text/plain": [
       "(150,)"
      ]
     },
     "execution_count": 6,
     "metadata": {},
     "output_type": "execute_result"
    }
   ],
   "source": [
    "iris['target'].shape"
   ]
  },
  {
   "cell_type": "code",
   "execution_count": 7,
   "id": "0d7ffe13-b104-404f-a13b-3e3195a1d84d",
   "metadata": {
    "execution": {
     "iopub.execute_input": "2021-08-21T16:24:08.265124Z",
     "iopub.status.busy": "2021-08-21T16:24:08.264520Z",
     "iopub.status.idle": "2021-08-21T16:24:08.283698Z",
     "shell.execute_reply": "2021-08-21T16:24:08.276776Z",
     "shell.execute_reply.started": "2021-08-21T16:24:08.265073Z"
    },
    "tags": []
   },
   "outputs": [
    {
     "data": {
      "text/plain": [
       "array([0, 1, 2])"
      ]
     },
     "execution_count": 7,
     "metadata": {},
     "output_type": "execute_result"
    }
   ],
   "source": [
    "np.unique(iris['target'])"
   ]
  },
  {
   "cell_type": "code",
   "execution_count": 8,
   "id": "0271a239-3690-4a1a-b0e7-2f666ace5720",
   "metadata": {
    "execution": {
     "iopub.execute_input": "2021-08-21T16:24:08.289629Z",
     "iopub.status.busy": "2021-08-21T16:24:08.288662Z",
     "iopub.status.idle": "2021-08-21T16:24:08.354933Z",
     "shell.execute_reply": "2021-08-21T16:24:08.347307Z",
     "shell.execute_reply.started": "2021-08-21T16:24:08.289547Z"
    },
    "tags": []
   },
   "outputs": [],
   "source": [
    "X = iris['data']\n",
    "y = iris['target']"
   ]
  },
  {
   "cell_type": "code",
   "execution_count": 9,
   "id": "fdac3af5-deda-4ba6-9121-592540899fc4",
   "metadata": {
    "execution": {
     "iopub.execute_input": "2021-08-21T16:24:08.359502Z",
     "iopub.status.busy": "2021-08-21T16:24:08.357804Z",
     "iopub.status.idle": "2021-08-21T16:24:08.390072Z",
     "shell.execute_reply": "2021-08-21T16:24:08.386322Z",
     "shell.execute_reply.started": "2021-08-21T16:24:08.359443Z"
    },
    "tags": []
   },
   "outputs": [
    {
     "data": {
      "text/plain": [
       "array([5.1, 3.5, 1.4, 0.2])"
      ]
     },
     "execution_count": 9,
     "metadata": {},
     "output_type": "execute_result"
    }
   ],
   "source": [
    "X[0]"
   ]
  },
  {
   "cell_type": "code",
   "execution_count": 10,
   "id": "ef75c465-a472-4361-97c0-d44a611b8660",
   "metadata": {
    "execution": {
     "iopub.execute_input": "2021-08-21T16:24:08.405775Z",
     "iopub.status.busy": "2021-08-21T16:24:08.404884Z",
     "iopub.status.idle": "2021-08-21T16:24:08.415671Z",
     "shell.execute_reply": "2021-08-21T16:24:08.412627Z",
     "shell.execute_reply.started": "2021-08-21T16:24:08.405682Z"
    },
    "tags": []
   },
   "outputs": [],
   "source": [
    "clf = RandomForestClassifier(random_state=42)"
   ]
  },
  {
   "cell_type": "code",
   "execution_count": 11,
   "id": "d9f432b0-b435-4caa-939f-1abb8e5130d5",
   "metadata": {
    "execution": {
     "iopub.execute_input": "2021-08-21T16:24:08.419022Z",
     "iopub.status.busy": "2021-08-21T16:24:08.418636Z",
     "iopub.status.idle": "2021-08-21T16:24:08.883738Z",
     "shell.execute_reply": "2021-08-21T16:24:08.879971Z",
     "shell.execute_reply.started": "2021-08-21T16:24:08.418979Z"
    },
    "tags": []
   },
   "outputs": [
    {
     "data": {
      "text/plain": [
       "RandomForestClassifier(random_state=42)"
      ]
     },
     "execution_count": 11,
     "metadata": {},
     "output_type": "execute_result"
    }
   ],
   "source": [
    "clf.fit(X, y)"
   ]
  },
  {
   "cell_type": "code",
   "execution_count": 12,
   "id": "647bd037-cc55-4b4f-83b2-faea8d116351",
   "metadata": {
    "execution": {
     "iopub.execute_input": "2021-08-21T16:24:08.885541Z",
     "iopub.status.busy": "2021-08-21T16:24:08.885020Z",
     "iopub.status.idle": "2021-08-21T16:24:08.944311Z",
     "shell.execute_reply": "2021-08-21T16:24:08.937083Z",
     "shell.execute_reply.started": "2021-08-21T16:24:08.885509Z"
    },
    "tags": []
   },
   "outputs": [
    {
     "data": {
      "text/plain": [
       "1.0"
      ]
     },
     "execution_count": 12,
     "metadata": {},
     "output_type": "execute_result"
    }
   ],
   "source": [
    "clf.score(X, y)"
   ]
  },
  {
   "cell_type": "markdown",
   "id": "e20d31a4-bfd7-49bb-a9b3-91e745ca0b81",
   "metadata": {},
   "source": [
    "### Save to MLflow"
   ]
  },
  {
   "cell_type": "code",
   "execution_count": 13,
   "id": "692fb8a0-bfe3-47ac-8327-dea3d50138dc",
   "metadata": {
    "execution": {
     "iopub.execute_input": "2021-08-21T16:24:08.947766Z",
     "iopub.status.busy": "2021-08-21T16:24:08.946802Z",
     "iopub.status.idle": "2021-08-21T16:24:08.971903Z",
     "shell.execute_reply": "2021-08-21T16:24:08.970336Z",
     "shell.execute_reply.started": "2021-08-21T16:24:08.947716Z"
    },
    "tags": []
   },
   "outputs": [],
   "source": [
    "server_url = \"http://localhost:8088\""
   ]
  },
  {
   "cell_type": "code",
   "execution_count": 14,
   "id": "55f7d41b-202e-4e0f-a6ce-66e024a7d676",
   "metadata": {
    "execution": {
     "iopub.execute_input": "2021-08-21T16:24:08.975664Z",
     "iopub.status.busy": "2021-08-21T16:24:08.974847Z",
     "iopub.status.idle": "2021-08-21T16:24:09.000991Z",
     "shell.execute_reply": "2021-08-21T16:24:08.993787Z",
     "shell.execute_reply.started": "2021-08-21T16:24:08.975617Z"
    },
    "tags": []
   },
   "outputs": [],
   "source": [
    "mlflow.set_tracking_uri(server_url)"
   ]
  },
  {
   "cell_type": "code",
   "execution_count": 15,
   "id": "e6eb1cd8-ba46-48cf-926f-06b4323f91a7",
   "metadata": {
    "execution": {
     "iopub.execute_input": "2021-08-21T16:24:09.003170Z",
     "iopub.status.busy": "2021-08-21T16:24:09.002685Z",
     "iopub.status.idle": "2021-08-21T16:24:09.267574Z",
     "shell.execute_reply": "2021-08-21T16:24:09.263548Z",
     "shell.execute_reply.started": "2021-08-21T16:24:09.003143Z"
    },
    "tags": []
   },
   "outputs": [
    {
     "data": {
      "text/plain": [
       "[<Experiment: artifact_location='/tmp/0', experiment_id='0', lifecycle_stage='active', name='Default', tags={}>,\n",
       " <Experiment: artifact_location='/tmp/1', experiment_id='1', lifecycle_stage='active', name='seldon_getting_started_custom_mlflow2', tags={}>]"
      ]
     },
     "execution_count": 15,
     "metadata": {},
     "output_type": "execute_result"
    }
   ],
   "source": [
    "mlflow.list_experiments()"
   ]
  },
  {
   "cell_type": "code",
   "execution_count": 16,
   "id": "584fa64b-92a1-4c24-b7e2-20c8eb537217",
   "metadata": {
    "execution": {
     "iopub.execute_input": "2021-08-21T16:24:09.273355Z",
     "iopub.status.busy": "2021-08-21T16:24:09.271588Z",
     "iopub.status.idle": "2021-08-21T16:24:09.299122Z",
     "shell.execute_reply": "2021-08-21T16:24:09.287298Z",
     "shell.execute_reply.started": "2021-08-21T16:24:09.273302Z"
    },
    "tags": []
   },
   "outputs": [],
   "source": [
    "experiment_name = \"seldon_getting_started_custom_mlflow2\""
   ]
  },
  {
   "cell_type": "code",
   "execution_count": null,
   "id": "abdab51d-16ea-4639-9f04-880d8c92755b",
   "metadata": {
    "execution": {
     "iopub.execute_input": "2021-08-21T16:23:18.933799Z",
     "iopub.status.busy": "2021-08-21T16:23:18.931066Z",
     "iopub.status.idle": "2021-08-21T16:23:19.603440Z",
     "shell.execute_reply": "2021-08-21T16:23:19.600768Z",
     "shell.execute_reply.started": "2021-08-21T16:23:18.932336Z"
    },
    "tags": []
   },
   "outputs": [],
   "source": [
    "mlflow.create_experiment(experiment_name)"
   ]
  },
  {
   "cell_type": "code",
   "execution_count": 17,
   "id": "f69e4eca-c88f-40ee-bae0-dbf30ed4e416",
   "metadata": {
    "execution": {
     "iopub.execute_input": "2021-08-21T16:24:09.301393Z",
     "iopub.status.busy": "2021-08-21T16:24:09.300867Z",
     "iopub.status.idle": "2021-08-21T16:24:09.690026Z",
     "shell.execute_reply": "2021-08-21T16:24:09.685484Z",
     "shell.execute_reply.started": "2021-08-21T16:24:09.301286Z"
    },
    "tags": []
   },
   "outputs": [
    {
     "data": {
      "text/plain": [
       "<Experiment: artifact_location='/tmp/1', experiment_id='1', lifecycle_stage='active', name='seldon_getting_started_custom_mlflow2', tags={}>"
      ]
     },
     "execution_count": 17,
     "metadata": {},
     "output_type": "execute_result"
    }
   ],
   "source": [
    "experiment = mlflow.get_experiment_by_name(experiment_name)\n",
    "experiment"
   ]
  },
  {
   "cell_type": "code",
   "execution_count": 18,
   "id": "7762326d-e081-44d7-8cef-c325b8b33dc6",
   "metadata": {
    "execution": {
     "iopub.execute_input": "2021-08-21T16:24:09.701507Z",
     "iopub.status.busy": "2021-08-21T16:24:09.700513Z",
     "iopub.status.idle": "2021-08-21T16:24:09.910308Z",
     "shell.execute_reply": "2021-08-21T16:24:09.909120Z",
     "shell.execute_reply.started": "2021-08-21T16:24:09.701460Z"
    },
    "tags": []
   },
   "outputs": [],
   "source": [
    "mlflow.set_experiment(experiment_name)"
   ]
  },
  {
   "cell_type": "code",
   "execution_count": 19,
   "id": "0e2b82d3-a394-4fd9-ba02-d830f8f6879f",
   "metadata": {
    "execution": {
     "iopub.execute_input": "2021-08-21T16:24:09.915929Z",
     "iopub.status.busy": "2021-08-21T16:24:09.912564Z",
     "iopub.status.idle": "2021-08-21T16:24:09.924989Z",
     "shell.execute_reply": "2021-08-21T16:24:09.923961Z",
     "shell.execute_reply.started": "2021-08-21T16:24:09.915876Z"
    },
    "tags": []
   },
   "outputs": [
    {
     "data": {
      "text/plain": [
       "{'name': 'mlflow-env',\n",
       " 'channels': ['conda-forge'],\n",
       " 'dependencies': ['python=3.8.10',\n",
       "  'pip',\n",
       "  {'pip': ['mlflow', 'scikit-learn==0.24.2']}]}"
      ]
     },
     "execution_count": 19,
     "metadata": {},
     "output_type": "execute_result"
    }
   ],
   "source": [
    "mlflow.sklearn.get_default_conda_env()"
   ]
  },
  {
   "cell_type": "code",
   "execution_count": 20,
   "id": "3889acc8-cb93-4637-83cb-09bbef553219",
   "metadata": {
    "execution": {
     "iopub.execute_input": "2021-08-21T16:24:10.376845Z",
     "iopub.status.busy": "2021-08-21T16:24:10.376309Z",
     "iopub.status.idle": "2021-08-21T16:24:11.002159Z",
     "shell.execute_reply": "2021-08-21T16:24:11.001149Z",
     "shell.execute_reply.started": "2021-08-21T16:24:10.376810Z"
    },
    "tags": []
   },
   "outputs": [
    {
     "data": {
      "text/plain": [
       "<ActiveRun: >"
      ]
     },
     "execution_count": 20,
     "metadata": {},
     "output_type": "execute_result"
    }
   ],
   "source": [
    "mlflow.start_run(experiment_id=experiment.experiment_id, run_name=\"run3\")"
   ]
  },
  {
   "cell_type": "code",
   "execution_count": 21,
   "id": "699a40a2-c5f7-42bf-a843-fa65f4c23fee",
   "metadata": {
    "execution": {
     "iopub.execute_input": "2021-08-21T16:24:14.079190Z",
     "iopub.status.busy": "2021-08-21T16:24:14.078506Z",
     "iopub.status.idle": "2021-08-21T16:24:14.361434Z",
     "shell.execute_reply": "2021-08-21T16:24:14.360498Z",
     "shell.execute_reply.started": "2021-08-21T16:24:14.079146Z"
    },
    "tags": []
   },
   "outputs": [],
   "source": [
    "mlflow.log_param(\"criterion\", \"test\")"
   ]
  },
  {
   "cell_type": "code",
   "execution_count": 22,
   "id": "8c593f59-5bab-46ca-aca2-c27c203979fc",
   "metadata": {
    "execution": {
     "iopub.execute_input": "2021-08-21T16:24:14.467829Z",
     "iopub.status.busy": "2021-08-21T16:24:14.467139Z",
     "iopub.status.idle": "2021-08-21T16:24:15.140182Z",
     "shell.execute_reply": "2021-08-21T16:24:15.139054Z",
     "shell.execute_reply.started": "2021-08-21T16:24:14.467600Z"
    },
    "tags": []
   },
   "outputs": [],
   "source": [
    "mlflow.sklearn.log_model(clf, \"model\")"
   ]
  },
  {
   "cell_type": "code",
   "execution_count": 23,
   "id": "6fdf8cc0-9211-4a45-aa07-6bcd45540f3b",
   "metadata": {
    "execution": {
     "iopub.execute_input": "2021-08-21T16:24:15.280078Z",
     "iopub.status.busy": "2021-08-21T16:24:15.279471Z",
     "iopub.status.idle": "2021-08-21T16:24:15.583676Z",
     "shell.execute_reply": "2021-08-21T16:24:15.579847Z",
     "shell.execute_reply.started": "2021-08-21T16:24:15.280042Z"
    },
    "tags": []
   },
   "outputs": [
    {
     "data": {
      "text/plain": [
       "[<RunInfo: artifact_uri='/tmp/1/660ec993d7304595956ef27e3afedf81/artifacts', end_time=None, experiment_id='1', lifecycle_stage='active', run_id='660ec993d7304595956ef27e3afedf81', run_uuid='660ec993d7304595956ef27e3afedf81', start_time=1629563050745, status='RUNNING', user_id='christian'>,\n",
       " <RunInfo: artifact_uri='/tmp/1/0ce7952b59204010b73fdbe2b01b0c17/artifacts', end_time=1629562428232, experiment_id='1', lifecycle_stage='active', run_id='0ce7952b59204010b73fdbe2b01b0c17', run_uuid='0ce7952b59204010b73fdbe2b01b0c17', start_time=1629562425504, status='FINISHED', user_id='christian'>]"
      ]
     },
     "execution_count": 23,
     "metadata": {},
     "output_type": "execute_result"
    }
   ],
   "source": [
    "mlflow.list_run_infos(experiment.experiment_id)"
   ]
  },
  {
   "cell_type": "code",
   "execution_count": 24,
   "id": "a593fcc7-55bd-4962-acd6-721c6eb5fe95",
   "metadata": {
    "execution": {
     "iopub.execute_input": "2021-08-21T16:24:15.692110Z",
     "iopub.status.busy": "2021-08-21T16:24:15.691127Z",
     "iopub.status.idle": "2021-08-21T16:24:15.706010Z",
     "shell.execute_reply": "2021-08-21T16:24:15.703688Z",
     "shell.execute_reply.started": "2021-08-21T16:24:15.692074Z"
    },
    "tags": []
   },
   "outputs": [
    {
     "data": {
      "text/plain": [
       "'1'"
      ]
     },
     "execution_count": 24,
     "metadata": {},
     "output_type": "execute_result"
    }
   ],
   "source": [
    "experiment.experiment_id"
   ]
  },
  {
   "cell_type": "code",
   "execution_count": 25,
   "id": "4009159d-53d2-4515-89f8-05beae9f7dd4",
   "metadata": {
    "execution": {
     "iopub.execute_input": "2021-08-21T16:24:19.393509Z",
     "iopub.status.busy": "2021-08-21T16:24:19.392898Z",
     "iopub.status.idle": "2021-08-21T16:24:19.648920Z",
     "shell.execute_reply": "2021-08-21T16:24:19.647988Z",
     "shell.execute_reply.started": "2021-08-21T16:24:19.393455Z"
    },
    "tags": []
   },
   "outputs": [],
   "source": [
    "mlflow.end_run()"
   ]
  },
  {
   "cell_type": "code",
   "execution_count": 26,
   "id": "5c7d3eaa-a485-4d0c-a3d2-362e9b6c81b6",
   "metadata": {
    "execution": {
     "iopub.execute_input": "2021-08-21T16:24:20.856838Z",
     "iopub.status.busy": "2021-08-21T16:24:20.853204Z",
     "iopub.status.idle": "2021-08-21T16:24:21.330801Z",
     "shell.execute_reply": "2021-08-21T16:24:21.328529Z",
     "shell.execute_reply.started": "2021-08-21T16:24:20.854907Z"
    },
    "tags": []
   },
   "outputs": [
    {
     "name": "stdout",
     "output_type": "stream",
     "text": [
      "/tmp/1/7370bde697544da5b6e728ba07cd5fd5/artifacts\n"
     ]
    }
   ],
   "source": [
    "print(mlflow.get_artifact_uri())"
   ]
  },
  {
   "cell_type": "code",
   "execution_count": 27,
   "id": "34b8cac0-611e-48b2-8710-e981180fb106",
   "metadata": {
    "execution": {
     "iopub.execute_input": "2021-08-21T16:24:23.544410Z",
     "iopub.status.busy": "2021-08-21T16:24:23.543388Z",
     "iopub.status.idle": "2021-08-21T16:24:23.561027Z",
     "shell.execute_reply": "2021-08-21T16:24:23.559275Z",
     "shell.execute_reply.started": "2021-08-21T16:24:23.544311Z"
    },
    "tags": []
   },
   "outputs": [],
   "source": [
    "pod_name = \"mlflow-86c769bddb-4klrz\" # hosting mlflow"
   ]
  },
  {
   "cell_type": "code",
   "execution_count": 37,
   "id": "d809702e-2e66-421b-b16f-5c08edfe17bc",
   "metadata": {
    "execution": {
     "iopub.execute_input": "2021-08-21T16:26:46.984763Z",
     "iopub.status.busy": "2021-08-21T16:26:46.984421Z",
     "iopub.status.idle": "2021-08-21T16:26:47.002669Z",
     "shell.execute_reply": "2021-08-21T16:26:46.997148Z",
     "shell.execute_reply.started": "2021-08-21T16:26:46.984728Z"
    },
    "tags": []
   },
   "outputs": [],
   "source": [
    "def save_artifact(pod_name, artifact_experiment):\n",
    "    cmd = \"kubectl cp {1} {0}:/tmp\".format(pod_name,experiment.artifact_location)\n",
    "    print(cmd)\n",
    "    os.system(cmd)"
   ]
  },
  {
   "cell_type": "code",
   "execution_count": 38,
   "id": "1f5efc70-cff6-4e9a-8af4-69c379199af7",
   "metadata": {
    "execution": {
     "iopub.execute_input": "2021-08-21T16:26:48.239527Z",
     "iopub.status.busy": "2021-08-21T16:26:48.239207Z",
     "iopub.status.idle": "2021-08-21T16:26:49.872602Z",
     "shell.execute_reply": "2021-08-21T16:26:49.871606Z",
     "shell.execute_reply.started": "2021-08-21T16:26:48.239498Z"
    },
    "tags": []
   },
   "outputs": [
    {
     "name": "stdout",
     "output_type": "stream",
     "text": [
      "kubectl cp /tmp/1 mlflow-86c769bddb-4klrz:/tmp\n"
     ]
    }
   ],
   "source": [
    "save_artifact(pod_name, experiment.artifact_location)"
   ]
  }
 ],
 "metadata": {
  "kernelspec": {
   "display_name": "Python 3 (ipykernel)",
   "language": "python",
   "name": "python3"
  },
  "language_info": {
   "codemirror_mode": {
    "name": "ipython",
    "version": 3
   },
   "file_extension": ".py",
   "mimetype": "text/x-python",
   "name": "python",
   "nbconvert_exporter": "python",
   "pygments_lexer": "ipython3",
   "version": "3.8.10"
  }
 },
 "nbformat": 4,
 "nbformat_minor": 5
}
