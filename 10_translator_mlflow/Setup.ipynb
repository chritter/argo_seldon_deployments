{
 "cells": [
  {
   "cell_type": "markdown",
   "source": [
    "# Setup"
   ],
   "metadata": {}
  },
  {
   "cell_type": "code",
   "execution_count": 1,
   "source": [
    "from download_artifact import download\n",
    "import pandas as pd"
   ],
   "outputs": [],
   "metadata": {}
  },
  {
   "cell_type": "markdown",
   "source": [
    "## 1) Download run from mlflow"
   ],
   "metadata": {}
  },
  {
   "cell_type": "code",
   "execution_count": 4,
   "source": [
    "#run_id = \"e01b366910bb4d86a94c9a6ee60cda66\"\n",
    "#download(run_id)"
   ],
   "outputs": [],
   "metadata": {}
  },
  {
   "cell_type": "markdown",
   "source": [
    "## 2) Use in Model Predictor"
   ],
   "metadata": {}
  },
  {
   "cell_type": "code",
   "execution_count": 2,
   "source": [
    "from Model import Model"
   ],
   "outputs": [],
   "metadata": {}
  },
  {
   "cell_type": "code",
   "execution_count": 3,
   "source": [
    "test_model = Model()"
   ],
   "outputs": [
    {
     "output_type": "stream",
     "name": "stderr",
     "text": [
      "03.10.2021 21:15:01 (INFO) load model\n",
      "03.10.2021 21:15:13 (INFO) loading model done\n"
     ]
    }
   ],
   "metadata": {}
  },
  {
   "cell_type": "code",
   "execution_count": 4,
   "source": [
    "test_text = [\"Dans le couloir du métro, à Paris, en novembre 2015, François Duchâteau tombe face à une affiche de la COP21\",\n",
    "             \"Comment ca va?\",\n",
    "             \"Avez-vous le temps maintenant?\",\n",
    "             \"C'est quelle date ?\"]"
   ],
   "outputs": [],
   "metadata": {}
  },
  {
   "cell_type": "code",
   "execution_count": 5,
   "source": [
    "test_model.predict(test_text)"
   ],
   "outputs": [
    {
     "output_type": "stream",
     "name": "stderr",
     "text": [
      "03.10.2021 21:15:17 (INFO) received X ['Dans le couloir du métro, à Paris, en novembre 2015, François Duchâteau tombe face à une affiche de la COP21', 'Comment ca va?', 'Avez-vous le temps maintenant?', \"C'est quelle date ?\"]\n",
      "03.10.2021 21:15:17 (INFO) start inference on X\n",
      "03.10.2021 21:15:17 (INFO) executing argv ['perl', '/Users/christian/opt/anaconda3/envs/translators_mlflow/lib/python3.7/site-packages/mosestokenizer/split-sentences.perl', '-q', '-b', '-l', 'en', '-m']\n",
      "03.10.2021 21:15:17 (WARNING) stdbuf was not found; communication with perl may hang due to stdio buffering.\n",
      "03.10.2021 21:15:17 (INFO) spawned process 50694\n",
      "03.10.2021 21:15:17 (DEBUG) << Dans le couloir du métro, à Paris, en novembre 2015, François Duchâteau tombe face à une affiche de la COP21\n",
      "03.10.2021 21:15:17 (DEBUG) << <P>\n",
      "03.10.2021 21:15:17 (DEBUG) readline()\n",
      "03.10.2021 21:15:17 (DEBUG) >> Dans le couloir du métro, à Paris, en novembre 2015, François Duchâteau tombe face à une affiche de la COP21\n",
      "03.10.2021 21:15:17 (DEBUG) readline()\n",
      "03.10.2021 21:15:17 (DEBUG) >> <P>\n",
      "03.10.2021 21:15:17 (DEBUG) << Comment ca va?\n",
      "03.10.2021 21:15:17 (DEBUG) << <P>\n",
      "03.10.2021 21:15:17 (DEBUG) readline()\n",
      "03.10.2021 21:15:17 (DEBUG) >> Comment ca va?\n",
      "03.10.2021 21:15:17 (DEBUG) readline()\n",
      "03.10.2021 21:15:17 (DEBUG) >> <P>\n",
      "03.10.2021 21:15:17 (DEBUG) << Avez-vous le temps maintenant?\n",
      "03.10.2021 21:15:17 (DEBUG) << <P>\n",
      "03.10.2021 21:15:17 (DEBUG) readline()\n",
      "03.10.2021 21:15:17 (DEBUG) >> Avez-vous le temps maintenant?\n",
      "03.10.2021 21:15:17 (DEBUG) readline()\n",
      "03.10.2021 21:15:17 (DEBUG) >> <P>\n",
      "03.10.2021 21:15:17 (DEBUG) << C'est quelle date ?\n",
      "03.10.2021 21:15:17 (DEBUG) << <P>\n",
      "03.10.2021 21:15:17 (DEBUG) readline()\n",
      "03.10.2021 21:15:17 (DEBUG) >> C'est quelle date ?\n",
      "03.10.2021 21:15:17 (DEBUG) readline()\n",
      "03.10.2021 21:15:17 (DEBUG) >> <P>\n",
      "03.10.2021 21:15:17 (INFO) killing process 50694\n",
      "03.10.2021 21:15:17 (INFO) executing argv ['perl', '/Users/christian/opt/anaconda3/envs/translators_mlflow/lib/python3.7/site-packages/mosestokenizer/normalize-punctuation.perl', '-b', '-l', 'en']\n",
      "03.10.2021 21:15:17 (WARNING) stdbuf was not found; communication with perl may hang due to stdio buffering.\n",
      "03.10.2021 21:15:17 (INFO) spawned process 50695\n",
      "03.10.2021 21:15:17 (DEBUG) << Dans le couloir du métro, à Paris, en novembre 2015, François Duchâteau tombe face à une affiche de la COP21\n",
      "03.10.2021 21:15:17 (DEBUG) readline()\n",
      "03.10.2021 21:15:17 (DEBUG) >> Dans le couloir du métro, à Paris, en novembre 2015, François Duchâteau tombe face à une affiche de la COP21\n",
      "03.10.2021 21:15:17 (DEBUG) << Comment ca va?\n",
      "03.10.2021 21:15:17 (DEBUG) readline()\n",
      "03.10.2021 21:15:17 (DEBUG) >> Comment ca va?\n",
      "03.10.2021 21:15:17 (DEBUG) << Avez-vous le temps maintenant?\n",
      "03.10.2021 21:15:17 (DEBUG) readline()\n",
      "03.10.2021 21:15:17 (DEBUG) >> Avez-vous le temps maintenant?\n",
      "03.10.2021 21:15:17 (DEBUG) << C'est quelle date ?\n",
      "03.10.2021 21:15:17 (DEBUG) readline()\n",
      "03.10.2021 21:15:17 (DEBUG) >> C'est quelle date ?\n"
     ]
    },
    {
     "output_type": "stream",
     "name": "stdout",
     "text": [
      "raw model input                                                    0\n",
      "0  Dans le couloir du métro, à Paris, en novembre...\n",
      "1                                     Comment ca va?\n",
      "2                     Avez-vous le temps maintenant?\n",
      "3                                C'est quelle date ?\n",
      "texts ['Dans le couloir du métro, à Paris, en novembre 2015, François Duchâteau tombe face à une affiche de la COP21', 'Comment ca va?', 'Avez-vous le temps maintenant?', \"C'est quelle date ?\"]\n",
      "<class 'list'>\n"
     ]
    },
    {
     "output_type": "stream",
     "name": "stderr",
     "text": [
      "03.10.2021 21:15:17 (INFO) killing process 50695\n"
     ]
    },
    {
     "output_type": "stream",
     "name": "stdout",
     "text": [
      "_translate ['Dans le couloir du métro, à Paris, en novembre 2015, François Duchâteau tombe face à une affiche de la COP21', 'Comment ca va?', 'Avez-vous le temps maintenant?', \"C'est quelle date ?\"]\n"
     ]
    },
    {
     "output_type": "stream",
     "name": "stderr",
     "text": [
      "03.10.2021 21:15:20 (INFO) inference time [s]: 4\n",
      "03.10.2021 21:15:20 (INFO) model output ['In the subway corridor in Paris in November 2015, François Duchâteau falls in front of a COP21 poster', 'How are you?', 'Do you have time now?', 'What date is it?']\n"
     ]
    },
    {
     "output_type": "execute_result",
     "data": {
      "text/plain": [
       "['In the subway corridor in Paris in November 2015, François Duchâteau falls in front of a COP21 poster',\n",
       " 'How are you?',\n",
       " 'Do you have time now?',\n",
       " 'What date is it?']"
      ]
     },
     "metadata": {},
     "execution_count": 5
    }
   ],
   "metadata": {}
  },
  {
   "cell_type": "markdown",
   "source": [
    "### STart as Microservice local\n",
    "Debug flag enables using flask-internal werkzeug, not gunicorn,"
   ],
   "metadata": {}
  },
  {
   "cell_type": "code",
   "execution_count": null,
   "source": [
    "!seldon-core-microservice Model --service-type MODEL #--debug"
   ],
   "outputs": [],
   "metadata": {}
  },
  {
   "cell_type": "code",
   "execution_count": 6,
   "source": [
    "! curl -s -X POST http://192.168.0.47:9000/api/v1.0/predictions \\\n",
    "    -H 'Content-Type: application/json'     -d '{ \"data\": { \"ndarray\": [\"Aujourd hui est un bon jour\"] } }'"
   ],
   "outputs": [
    {
     "output_type": "stream",
     "name": "stdout",
     "text": [
      "^C\n"
     ]
    }
   ],
   "metadata": {}
  },
  {
   "cell_type": "code",
   "execution_count": null,
   "source": [
    "# expect to return simply string \"pong\"\n",
    "! curl http://192.168.0.47:9000/health/ping"
   ],
   "outputs": [],
   "metadata": {}
  },
  {
   "cell_type": "code",
   "execution_count": null,
   "source": [
    "# do the model validation with simple example\n",
    "! curl http://192.168.0.47:9000/health/status"
   ],
   "outputs": [],
   "metadata": {}
  },
  {
   "cell_type": "markdown",
   "source": [
    "## 3) Build Image\n",
    "\n",
    "`make build`"
   ],
   "metadata": {}
  },
  {
   "cell_type": "markdown",
   "source": [
    "### Test Locally"
   ],
   "metadata": {}
  },
  {
   "cell_type": "code",
   "execution_count": 9,
   "source": [
    "VERSION=!cat version.txt\n",
    "VERSION=VERSION[0]"
   ],
   "outputs": [],
   "metadata": {}
  },
  {
   "cell_type": "code",
   "execution_count": 17,
   "source": [
    "container_id = !docker run --rm -d -p 9000:9000/tcp translator:$VERSION\n",
    "container_id = container_id[0]\n",
    "container_id"
   ],
   "outputs": [
    {
     "output_type": "execute_result",
     "data": {
      "text/plain": [
       "'928eb55cda8438cf07ee50bb42c289a408b69b31c3cdb04bd0611986808e7e13'"
      ]
     },
     "metadata": {},
     "execution_count": 17
    }
   ],
   "metadata": {}
  },
  {
   "cell_type": "code",
   "execution_count": 18,
   "source": [
    "! docker logs --tail 1000 $container_id"
   ],
   "outputs": [
    {
     "output_type": "stream",
     "name": "stdout",
     "text": [
      "2021-10-04 11:18:05,991 - seldon_core.microservice:main:206 - INFO:  Starting microservice.py:main\n",
      "2021-10-04 11:18:05,992 - seldon_core.microservice:main:207 - INFO:  Seldon Core version: 1.11.0\n",
      "2021-10-04 11:18:05,995 - seldon_core.microservice:main:362 - INFO:  Parse JAEGER_EXTRA_TAGS []\n",
      "2021-10-04 11:18:05,995 - seldon_core.microservice:main:365 - INFO:  Annotations: {}\n",
      "2021-10-04 11:18:05,995 - seldon_core.microservice:main:369 - INFO:  Importing Model\n",
      "2021-10-04 11:18:07,041 - seldon_core.microservice:main:448 - INFO:  REST gunicorn microservice running on port 9000\n",
      "2021-10-04 11:18:07,044 - seldon_core.microservice:main:542 - INFO:  REST metrics microservice running on port 6000\n",
      "2021-10-04 11:18:07,044 - seldon_core.microservice:main:552 - INFO:  Starting servers\n",
      "2021-10-04 11:18:07,055 - seldon_core.microservice:grpc_prediction_server:505 - INFO:  GRPC Server Binding to '%s' 0.0.0.0:5000 with 1 processes\n",
      "2021-10-04 11:18:07,074 - seldon_core.wrapper:_set_flask_app_configs:224 - INFO:  App Config:  <Config {'ENV': 'production', 'DEBUG': False, 'TESTING': False, 'PROPAGATE_EXCEPTIONS': None, 'PRESERVE_CONTEXT_ON_EXCEPTION': None, 'SECRET_KEY': None, 'PERMANENT_SESSION_LIFETIME': datetime.timedelta(days=31), 'USE_X_SENDFILE': False, 'SERVER_NAME': None, 'APPLICATION_ROOT': '/', 'SESSION_COOKIE_NAME': 'session', 'SESSION_COOKIE_DOMAIN': None, 'SESSION_COOKIE_PATH': None, 'SESSION_COOKIE_HTTPONLY': True, 'SESSION_COOKIE_SECURE': False, 'SESSION_COOKIE_SAMESITE': None, 'SESSION_REFRESH_EACH_REQUEST': True, 'MAX_CONTENT_LENGTH': None, 'SEND_FILE_MAX_AGE_DEFAULT': datetime.timedelta(seconds=43200), 'TRAP_BAD_REQUEST_ERRORS': None, 'TRAP_HTTP_EXCEPTIONS': False, 'EXPLAIN_TEMPLATE_LOADING': False, 'PREFERRED_URL_SCHEME': 'http', 'JSON_AS_ASCII': True, 'JSON_SORT_KEYS': True, 'JSONIFY_PRETTYPRINT_REGULAR': False, 'JSONIFY_MIMETYPE': 'application/json', 'TEMPLATES_AUTO_RELOAD': None, 'MAX_COOKIE_SIZE': 4093}>\n",
      "2021-10-04 11:18:07,108 - seldon_core.wrapper:_set_flask_app_configs:224 - INFO:  App Config:  <Config {'ENV': 'production', 'DEBUG': False, 'TESTING': False, 'PROPAGATE_EXCEPTIONS': None, 'PRESERVE_CONTEXT_ON_EXCEPTION': None, 'SECRET_KEY': None, 'PERMANENT_SESSION_LIFETIME': datetime.timedelta(days=31), 'USE_X_SENDFILE': False, 'SERVER_NAME': None, 'APPLICATION_ROOT': '/', 'SESSION_COOKIE_NAME': 'session', 'SESSION_COOKIE_DOMAIN': None, 'SESSION_COOKIE_PATH': None, 'SESSION_COOKIE_HTTPONLY': True, 'SESSION_COOKIE_SECURE': False, 'SESSION_COOKIE_SAMESITE': None, 'SESSION_REFRESH_EACH_REQUEST': True, 'MAX_CONTENT_LENGTH': None, 'SEND_FILE_MAX_AGE_DEFAULT': datetime.timedelta(seconds=43200), 'TRAP_BAD_REQUEST_ERRORS': None, 'TRAP_HTTP_EXCEPTIONS': False, 'EXPLAIN_TEMPLATE_LOADING': False, 'PREFERRED_URL_SCHEME': 'http', 'JSON_AS_ASCII': True, 'JSON_SORT_KEYS': True, 'JSONIFY_PRETTYPRINT_REGULAR': False, 'JSONIFY_MIMETYPE': 'application/json', 'TEMPLATES_AUTO_RELOAD': None, 'MAX_COOKIE_SIZE': 4093}>\n",
      "2021-10-04 11:18:07,113 - seldon_core.microservice:_run_grpc_server:460 - INFO:  Starting new GRPC server with 1.\n",
      "2021-10-04 11:18:07,599 - root:load:30 - INFO:  load model\n",
      "[2021-10-04 11:18:07 +0000] [20] [INFO] Starting gunicorn 20.1.0\n",
      "[2021-10-04 11:18:07 +0000] [20] [INFO] Listening at: http://0.0.0.0:6000 (20)\n",
      "[2021-10-04 11:18:07 +0000] [20] [INFO] Using worker: sync\n",
      "[2021-10-04 11:18:07 +0000] [1] [INFO] Starting gunicorn 20.1.0\n",
      "[2021-10-04 11:18:07 +0000] [1] [INFO] Listening at: http://0.0.0.0:9000 (1)\n",
      "[2021-10-04 11:18:07 +0000] [1] [INFO] Using worker: sync\n",
      "[2021-10-04 11:18:07 +0000] [30] [INFO] Booting worker with pid: 30\n",
      "[2021-10-04 11:18:08 +0000] [31] [INFO] Booting worker with pid: 31\n",
      "2021-10-04 11:18:08,018 - seldon_core.gunicorn_utils:load:103 - INFO:  Tracing not active\n",
      "2021-10-04 11:18:08,043 - root:load:30 - INFO:  load model\n"
     ]
    }
   ],
   "metadata": {}
  },
  {
   "cell_type": "code",
   "execution_count": 19,
   "source": [
    "! curl -s -X POST http:///192.168.0.47:9000/api/v1.0/predictions \\\n",
    "    -H 'Content-Type: application/json' \\\n",
    "    -d '{ \"data\": { \"ndarray\": [\"Aujourd hui est un bon jour\"] } }'"
   ],
   "outputs": [
    {
     "output_type": "stream",
     "name": "stdout",
     "text": [
      "{\"data\":{\"names\":[],\"ndarray\":[\"Today is a good day\"]},\"meta\":{\"tags\":{\"hostname\":\"928eb55cda84\",\"image_version\":\"0.5\",\"mode\":\"dev\",\"model_version\":\"e01b366910bb4d86a94c9a6ee60cda66\"}}}\n"
     ]
    }
   ],
   "metadata": {}
  },
  {
   "cell_type": "code",
   "execution_count": 20,
   "source": [
    "! curl http://192.168.0.47:9000/health/status"
   ],
   "outputs": [
    {
     "output_type": "stream",
     "name": "stdout",
     "text": [
      "{\"data\":{\"names\":[],\"ndarray\":[\"Today is a good day\"]},\"meta\":{\"tags\":{\"hostname\":\"928eb55cda84\",\"image_version\":\"0.5\",\"mode\":\"dev\",\"model_version\":\"e01b366910bb4d86a94c9a6ee60cda66\"}}}\n"
     ]
    }
   ],
   "metadata": {}
  },
  {
   "cell_type": "markdown",
   "source": [
    "### Push to Registry"
   ],
   "metadata": {}
  },
  {
   "cell_type": "code",
   "execution_count": 25,
   "source": [
    "! curl -s -X POST http://localhost:9001/api/v1.0/predictions \\\n",
    "    -H 'Content-Type: application/json' \\\n",
    "    -d '{ \"data\": { \"ndarray\": [\"Aujourd hui est un bon jour\"] } }'"
   ],
   "outputs": [],
   "metadata": {}
  },
  {
   "cell_type": "code",
   "execution_count": null,
   "source": [],
   "outputs": [],
   "metadata": {}
  }
 ],
 "metadata": {
  "orig_nbformat": 4,
  "language_info": {
   "name": "python",
   "version": "3.7.10",
   "mimetype": "text/x-python",
   "codemirror_mode": {
    "name": "ipython",
    "version": 3
   },
   "pygments_lexer": "ipython3",
   "nbconvert_exporter": "python",
   "file_extension": ".py"
  },
  "kernelspec": {
   "name": "python3",
   "display_name": "Python 3.7.10 64-bit ('translators_mlflow': conda)"
  },
  "interpreter": {
   "hash": "9997e183861e8d4f0874ff606d1a029c67cf384cd69175c81b40efaba25a6ee8"
  }
 },
 "nbformat": 4,
 "nbformat_minor": 2
}