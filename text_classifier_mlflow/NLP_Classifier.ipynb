{
 "cells": [
  {
   "cell_type": "markdown",
   "metadata": {},
   "source": [
    "# Train Text Classification Model and Save to Mlflow"
   ]
  },
  {
   "cell_type": "markdown",
   "metadata": {},
   "source": [
    "## I) Train Model"
   ]
  },
  {
   "cell_type": "code",
   "execution_count": 1,
   "metadata": {},
   "outputs": [],
   "source": [
    "import sklearn\n",
    "from sklearn.feature_extraction.text import TfidfVectorizer\n",
    "from sklearn.base import BaseEstimator, TransformerMixin\n",
    "from sklearn.svm import LinearSVC\n",
    "from bs4 import BeautifulSoup\n",
    "import re\n",
    "import numpy as np"
   ]
  },
  {
   "cell_type": "code",
   "execution_count": 2,
   "metadata": {},
   "outputs": [
    {
     "name": "stderr",
     "output_type": "stream",
     "text": [
      "[nltk_data] Downloading package averaged_perceptron_tagger to\n",
      "[nltk_data]     /Users/christian/nltk_data...\n",
      "[nltk_data]   Package averaged_perceptron_tagger is already up-to-\n",
      "[nltk_data]       date!\n",
      "[nltk_data] Downloading package wordnet to\n",
      "[nltk_data]     /Users/christian/nltk_data...\n",
      "[nltk_data]   Package wordnet is already up-to-date!\n",
      "[nltk_data] Downloading package stopwords to\n",
      "[nltk_data]     /Users/christian/nltk_data...\n",
      "[nltk_data]   Package stopwords is already up-to-date!\n",
      "[nltk_data] Downloading package omw to /Users/christian/nltk_data...\n",
      "[nltk_data]   Package omw is already up-to-date!\n"
     ]
    },
    {
     "data": {
      "text/plain": [
       "True"
      ]
     },
     "execution_count": 2,
     "metadata": {},
     "output_type": "execute_result"
    }
   ],
   "source": [
    "from nltk.stem import WordNetLemmatizer\n",
    "from nltk.corpus import stopwords, wordnet\n",
    "import nltk\n",
    "nltk.download('averaged_perceptron_tagger')\n",
    "nltk.download('wordnet')\n",
    "nltk.download('stopwords')\n",
    "nltk.download('omw')"
   ]
  },
  {
   "cell_type": "code",
   "execution_count": 3,
   "metadata": {},
   "outputs": [],
   "source": [
    "from sklearn.datasets import fetch_20newsgroups"
   ]
  },
  {
   "cell_type": "code",
   "execution_count": 27,
   "metadata": {},
   "outputs": [],
   "source": [
    "\n",
    "# sklearn transformer for pipeline\n",
    "class peprocessor(BaseEstimator, TransformerMixin):\n",
    "    \n",
    "    \"\"\"text preprocessor\"\"\"\n",
    "\n",
    "    def __init__(self):\n",
    "        self.lemmatizer = WordNetLemmatizer()\n",
    "        self.nltk_stopwords = stopwords.words('english')\n",
    "\n",
    "    def nltk_tag_to_wordnet_tag(self, nltk_tag):\n",
    "        if nltk_tag.startswith('J'):\n",
    "            return wordnet.ADJ\n",
    "        elif nltk_tag.startswith('V'):\n",
    "            return wordnet.VERB\n",
    "        elif nltk_tag.startswith('N'):\n",
    "            return wordnet.NOUN\n",
    "        elif nltk_tag.startswith('R'):\n",
    "            return wordnet.ADV\n",
    "        else:          \n",
    "            return wordnet.NOUN\n",
    "\n",
    "    def remove_html_tags(self, text):\n",
    "        soup = BeautifulSoup(text, \"html.parser\")\n",
    "        removed_html_text = soup.get_text()\n",
    "        return removed_html_text\n",
    "\n",
    "    def remove_special_chars(self, text):\n",
    "\n",
    "        pattern = r'[^a-zA-z0-9\\s]'\n",
    "        text = re.sub(pattern, '', text)\n",
    "        text = re.sub(r'[\\x00-\\x08\\x0b\\x0c\\x0e-\\x1f\\x7f-\\xff]', '', text)\n",
    "        return text\n",
    "\n",
    "    def preprocess_doc(self, text):\n",
    "        \n",
    "        print('preprocess doc ', text)\n",
    "\n",
    "        assert type(text) == str\n",
    "\n",
    "        text = text.replace(r'\\n',' ')\n",
    "\n",
    "        text = self.remove_html_tags(text)\n",
    "\n",
    "        text = self.remove_special_chars(text)\n",
    "        print(\"after prepro \", text)\n",
    "\n",
    "        if len(text.split()) < 5:\n",
    "            return np.nan\n",
    "\n",
    "        # tokenize the sentence and find the POS tag for each token\n",
    "        nltk_tagged = nltk.pos_tag(nltk.word_tokenize(text))\n",
    "        \n",
    "        # tuple of (token, wordnet_tag)\n",
    "        wordnet_tagged = map(lambda x: (x[0], self.nltk_tag_to_wordnet_tag(\n",
    "                    x[1])), nltk_tagged)    \n",
    "        lemmas = [self.lemmatizer.lemmatize(word, tag) for word, tag in \\\n",
    "                wordnet_tagged if not word in self.nltk_stopwords]\n",
    "        \n",
    "        return lemmas\n",
    "\n",
    "    def transform(self, X, y=None):\n",
    "        return [self.preprocess_doc(text) for text in X]\n",
    "    def fit(self, X, y=None):\n",
    "        return self    \n"
   ]
  },
  {
   "cell_type": "code",
   "execution_count": 28,
   "metadata": {},
   "outputs": [],
   "source": [
    "preproc = peprocessor()"
   ]
  },
  {
   "cell_type": "markdown",
   "metadata": {},
   "source": [
    "### Data Prep"
   ]
  },
  {
   "cell_type": "code",
   "execution_count": 6,
   "metadata": {},
   "outputs": [],
   "source": [
    "newsgroups_train = fetch_20newsgroups(subset='train', categories=['alt.atheism', 'sci.space'],\n",
    "                                     random_state=42)"
   ]
  },
  {
   "cell_type": "code",
   "execution_count": 7,
   "metadata": {},
   "outputs": [],
   "source": [
    "X = newsgroups_train.data\n",
    "y = newsgroups_train.target"
   ]
  },
  {
   "cell_type": "code",
   "execution_count": 8,
   "metadata": {},
   "outputs": [
    {
     "data": {
      "text/plain": [
       "'From: bil@okcforum.osrhe.edu (Bill Conner)\\nSubject: Re: Not the Omni!\\nNntp-Posting-Host: okcforum.osrhe.edu\\nOrganization: Okcforum Unix Users Group\\nX-Newsreader: TIN [version 1.1 PL6]\\nLines: 18\\n\\nCharley Wingate (mangoe@cs.umd.edu) wrote:\\n: \\n: >> Please enlighten me.  How is omnipotence contradictory?\\n: \\n: >By definition, all that can occur in the universe is governed by the rules\\n: >of nature. Thus god cannot break them. Anything that god does must be allowed\\n: >in the rules somewhere. Therefore, omnipotence CANNOT exist! It contradicts\\n: >the rules of nature.\\n: \\n: Obviously, an omnipotent god can change the rules.\\n\\nWhen you say, \"By definition\", what exactly is being defined;\\ncertainly not omnipotence. You seem to be saying that the \"rules of\\nnature\" are pre-existant somehow, that they not only define nature but\\nactually cause it. If that\\'s what you mean I\\'d like to hear your\\nfurther thoughts on the question.\\n\\nBill\\n'"
      ]
     },
     "execution_count": 8,
     "metadata": {},
     "output_type": "execute_result"
    }
   ],
   "source": [
    "X[0]"
   ]
  },
  {
   "cell_type": "code",
   "execution_count": 9,
   "metadata": {},
   "outputs": [
    {
     "data": {
      "text/plain": [
       "0"
      ]
     },
     "execution_count": 9,
     "metadata": {},
     "output_type": "execute_result"
    }
   ],
   "source": [
    "y[0]"
   ]
  },
  {
   "cell_type": "code",
   "execution_count": 10,
   "metadata": {},
   "outputs": [
    {
     "data": {
      "text/plain": [
       "(1073, 1073)"
      ]
     },
     "execution_count": 10,
     "metadata": {},
     "output_type": "execute_result"
    }
   ],
   "source": [
    "len(X), len(y)"
   ]
  },
  {
   "cell_type": "markdown",
   "metadata": {},
   "source": [
    "### Feature Engineering\n",
    "\n",
    "Create tokens in prepro step, hence pass tokens to tfidf vect."
   ]
  },
  {
   "cell_type": "code",
   "execution_count": 11,
   "metadata": {},
   "outputs": [],
   "source": [
    "X_prepro = [preproc.preprocess_doc(text) for text in X]"
   ]
  },
  {
   "cell_type": "code",
   "execution_count": 12,
   "metadata": {},
   "outputs": [],
   "source": [
    "from sklearn.feature_extraction.text import TfidfVectorizer"
   ]
  },
  {
   "cell_type": "code",
   "execution_count": 13,
   "metadata": {},
   "outputs": [],
   "source": [
    "def identity_tokenizer(text):\n",
    "    return text\n",
    "tfidf_vec = TfidfVectorizer(lowercase=False, tokenizer=identity_tokenizer, stop_words=None)"
   ]
  },
  {
   "cell_type": "code",
   "execution_count": 14,
   "metadata": {},
   "outputs": [],
   "source": [
    "from sklearn.pipeline import Pipeline"
   ]
  },
  {
   "cell_type": "code",
   "execution_count": 15,
   "metadata": {},
   "outputs": [],
   "source": [
    "X_feat = tfidf_vec.fit_transform(X_prepro)"
   ]
  },
  {
   "cell_type": "code",
   "execution_count": 16,
   "metadata": {},
   "outputs": [
    {
     "data": {
      "text/plain": [
       "<1073x25528 sparse matrix of type '<class 'numpy.float64'>'\n",
       "\twith 147153 stored elements in Compressed Sparse Row format>"
      ]
     },
     "execution_count": 16,
     "metadata": {},
     "output_type": "execute_result"
    }
   ],
   "source": [
    "X_feat"
   ]
  },
  {
   "cell_type": "markdown",
   "metadata": {},
   "source": [
    "### Training"
   ]
  },
  {
   "cell_type": "code",
   "execution_count": 29,
   "metadata": {},
   "outputs": [],
   "source": [
    "pipe = Pipeline([\n",
    "    ('prepro', peprocessor()),\n",
    "    ('tfidf', tfidf_vec),\n",
    "    ('clf', LinearSVC(class_weight = 'balanced', random_state=42))\n",
    "])"
   ]
  },
  {
   "cell_type": "code",
   "execution_count": 32,
   "metadata": {},
   "outputs": [
    {
     "name": "stdout",
     "output_type": "stream",
     "text": [
      "preprocess doc  From: bil@okcforum.osrhe.edu (Bill Conner)\n",
      "Subject: Re: Not the Omni!\n",
      "Nntp-Posting-Host: okcforum.osrhe.edu\n",
      "Organization: Okcforum Unix Users Group\n",
      "X-Newsreader: TIN [version 1.1 PL6]\n",
      "Lines: 18\n",
      "\n",
      "Charley Wingate (mangoe@cs.umd.edu) wrote:\n",
      ": \n",
      ": >> Please enlighten me.  How is omnipotence contradictory?\n",
      ": \n",
      ": >By definition, all that can occur in the universe is governed by the rules\n",
      ": >of nature. Thus god cannot break them. Anything that god does must be allowed\n",
      ": >in the rules somewhere. Therefore, omnipotence CANNOT exist! It contradicts\n",
      ": >the rules of nature.\n",
      ": \n",
      ": Obviously, an omnipotent god can change the rules.\n",
      "\n",
      "When you say, \"By definition\", what exactly is being defined;\n",
      "certainly not omnipotence. You seem to be saying that the \"rules of\n",
      "nature\" are pre-existant somehow, that they not only define nature but\n",
      "actually cause it. If that's what you mean I'd like to hear your\n",
      "further thoughts on the question.\n",
      "\n",
      "Bill\n",
      "\n",
      "after prepro  From bilokcforumosrheedu Bill Conner\n",
      "Subject Re Not the Omni\n",
      "NntpPostingHost okcforumosrheedu\n",
      "Organization Okcforum Unix Users Group\n",
      "XNewsreader TIN [version 11 PL6]\n",
      "Lines 18\n",
      "\n",
      "Charley Wingate mangoecsumdedu wrote\n",
      " \n",
      "  Please enlighten me  How is omnipotence contradictory\n",
      " \n",
      " By definition all that can occur in the universe is governed by the rules\n",
      " of nature Thus god cannot break them Anything that god does must be allowed\n",
      " in the rules somewhere Therefore omnipotence CANNOT exist It contradicts\n",
      " the rules of nature\n",
      " \n",
      " Obviously an omnipotent god can change the rules\n",
      "\n",
      "When you say By definition what exactly is being defined\n",
      "certainly not omnipotence You seem to be saying that the rules of\n",
      "nature are preexistant somehow that they not only define nature but\n",
      "actually cause it If thats what you mean Id like to hear your\n",
      "further thoughts on the question\n",
      "\n",
      "Bill\n",
      "\n",
      "preprocess doc  From: jhwitten@cs.ruu.nl (Jurriaan Wittenberg)\n",
      "Subject: Re: Magellan Update - 04/16/93\n",
      "Organization: Utrecht University, Dept. of Computer Science\n",
      "Keywords: Magellan, JPL\n",
      "Lines: 29\n",
      "\n",
      "In <19APR199320262420@kelvin.jpl.nasa.gov> baalke@kelvin.jpl.nasa.gov \n",
      "(Ron Baalke) writes:\n",
      "\n",
      ">Forwarded from Doug Griffith, Magellan Project Manager\n",
      ">\n",
      ">                        MAGELLAN STATUS REPORT\n",
      ">                            April 16, 1993\n",
      ">\n",
      ">\n",
      ">2.  Magellan has completed 7225 orbits of Venus and is now 39 days from\n",
      ">the end of Cycle-4 and the start of the Transition Experiment.\n",
      "Sorry I think I missed a bit of info on this Transition Experiment. What is it?\n",
      "\n",
      ">4.  On Monday morning, April 19, the moon will occult Venus and\n",
      ">interrupt the tracking of Magellan for about 68 minutes.\n",
      "Will this mean a loss of data or will the Magellan transmit data later on ??\n",
      "\n",
      "BTW: When will NASA cut off the connection with Magellan?? Not that I am\n",
      "looking forward to that day but I am just curious. I believe it had something\n",
      "to do with the funding from the goverment (or rather _NO_ funding :-)\n",
      "\n",
      "ok that's it for now. See you guys around,\n",
      "Jurriaan.\n",
      " \n",
      "-- \n",
      "-=-=-=-=-=-=-=-=-=-=-=-=-=-=-=-=-=-=-=-=-=-=-=-=-=-=-=-=-=-=-=-=-=-=-=-=-=-\n",
      "|----=|=-<- - - - - - JHWITTEN@CS.RUU.NL- - - - - - - - - - - - ->-=|=----|\n",
      "|----=|=-<-Jurriaan Wittenberg- - -Department of ComputerScience->-=|=----|\n",
      "|____/|\\_________Utrecht_________________The Netherlands___________/|\\____|\n",
      "\n",
      "after prepro  From jhwittencsruunl Jurriaan Wittenberg\n",
      "Subject Re Magellan Update  041693\n",
      "Organization Utrecht University Dept of Computer Science\n",
      "Keywords Magellan JPL\n",
      "Lines 29\n",
      "\n",
      "In 19APR199320262420kelvinjplnasagov baalkekelvinjplnasagov \n",
      "Ron Baalke writes\n",
      "\n",
      "Forwarded from Doug Griffith Magellan Project Manager\n",
      "\n",
      "                        MAGELLAN STATUS REPORT\n",
      "                            April 16 1993\n",
      "\n",
      "\n",
      "2  Magellan has completed 7225 orbits of Venus and is now 39 days from\n",
      "the end of Cycle4 and the start of the Transition Experiment\n",
      "Sorry I think I missed a bit of info on this Transition Experiment What is it\n",
      "\n",
      "4  On Monday morning April 19 the moon will occult Venus and\n",
      "interrupt the tracking of Magellan for about 68 minutes\n",
      "Will this mean a loss of data or will the Magellan transmit data later on \n",
      "\n",
      "BTW When will NASA cut off the connection with Magellan Not that I am\n",
      "looking forward to that day but I am just curious I believe it had something\n",
      "to do with the funding from the goverment or rather _NO_ funding \n",
      "\n",
      "ok thats it for now See you guys around\n",
      "Jurriaan\n",
      " \n",
      " \n",
      "\n",
      "      JHWITTENCSRUUNL            \n",
      "Jurriaan Wittenberg  Department of ComputerScience\n",
      "____\\_________Utrecht_________________The Netherlands___________\\____\n",
      "\n",
      "preprocess doc  From: sysmgr@king.eng.umd.edu (Doug Mohney)\n",
      "Subject: I want that Billion\n",
      "Organization: Computer Aided Design Lab, U. of Maryland College Park\n",
      "Lines: 37\n",
      "Reply-To: sysmgr@king.eng.umd.edu\n",
      "NNTP-Posting-Host: queen.eng.umd.edu\n",
      "\n",
      "In article <C5x86o.8p4@zoo.toronto.edu>, henry@zoo.toronto.edu (Henry Spencer) writes:\n",
      ">In article <1r6rn3INNn96@mojo.eng.umd.edu> sysmgr@king.eng.umd.edu writes:\n",
      ">>You'd need to launch HLVs to send up large amounts of stuff.  Do you know \n",
      ">>of a private Titan pad? \n",
      ">\n",
      ">You'd need to launch HLVs to send up large amounts of stuff *if* you assume\n",
      ">no new launcher development.  If you assume new launcher development, with\n",
      ">lower costs as a specific objective, then you probably don't want to\n",
      ">build something HLV-sized anyway.\n",
      ">\n",
      ">Nobody who is interested in launching things cheaply will buy Titans.  It\n",
      ">doesn't take many Titan pricetags to pay for a laser launcher or a large\n",
      ">gas gun or a development program for a Big Dumb Booster, all of which\n",
      ">would have far better cost-effectiveness.\n",
      "\n",
      "Henry, I made the assumption that he who gets there firstest with the mostest\n",
      "wins. \n",
      "\n",
      "Ohhh, you want to put in FINE PRINT which says \"Thou shall do wonderous R&D\n",
      "rather than use off-the-shelf hardware\"? Sorry, didn't see that in my copy.\n",
      "Most of the Pournellesque proposals run along the lines of <some dollar\n",
      "amount> reward for <some simple goal>.  \n",
      "\n",
      "You go ahead and do your development, I'll buy off the shelf at higher cost (or\n",
      "even Russian; but I also assume that there'd be some \"Buy US\" provos in there)\n",
      "and be camped out in the Moon while you are launching and assembling little\n",
      "itty-bitty payloads in LEO with your laser or gas gun.  And working out the\n",
      "bugs of assembly & integration in LEO. \n",
      "\n",
      "Oh, hey, could I get a couple of CanadARMs tuned for the lunar environment?  I\n",
      "wanna do some teleoperated prospecting while I'm up there...\n",
      "\n",
      "\n",
      "\n",
      "\n",
      "    Software engineering? That's like military intelligence, isn't it?\n",
      "  -- >                  SYSMGR@CADLAB.ENG.UMD.EDU                        < --\n",
      "\n",
      "after prepro  From sysmgrkingengumdedu Doug Mohney\n",
      "Subject I want that Billion\n",
      "Organization Computer Aided Design Lab U of Maryland College Park\n",
      "Lines 37\n",
      "ReplyTo sysmgrkingengumdedu\n",
      "NNTPPostingHost queenengumdedu\n",
      "\n",
      "In article  henryzootorontoedu Henry Spencer writes\n",
      "In article 1r6rn3INNn96mojoengumdedu sysmgrkingengumdedu writes\n",
      "Youd need to launch HLVs to send up large amounts of stuff  Do you know \n",
      "of a private Titan pad \n",
      "\n",
      "Youd need to launch HLVs to send up large amounts of stuff if you assume\n",
      "no new launcher development  If you assume new launcher development with\n",
      "lower costs as a specific objective then you probably dont want to\n",
      "build something HLVsized anyway\n",
      "\n",
      "Nobody who is interested in launching things cheaply will buy Titans  It\n",
      "doesnt take many Titan pricetags to pay for a laser launcher or a large\n",
      "gas gun or a development program for a Big Dumb Booster all of which\n",
      "would have far better costeffectiveness\n",
      "\n",
      "Henry I made the assumption that he who gets there firstest with the mostest\n",
      "wins \n",
      "\n",
      "Ohhh you want to put in FINE PRINT which says Thou shall do wonderous RD\n",
      "rather than use offtheshelf hardware Sorry didnt see that in my copy\n",
      "Most of the Pournellesque proposals run along the lines of  reward for   \n",
      "\n",
      "You go ahead and do your development Ill buy off the shelf at higher cost or\n",
      "even Russian but I also assume that thered be some Buy US provos in there\n",
      "and be camped out in the Moon while you are launching and assembling little\n",
      "ittybitty payloads in LEO with your laser or gas gun  And working out the\n",
      "bugs of assembly  integration in LEO \n",
      "\n",
      "Oh hey could I get a couple of CanadARMs tuned for the lunar environment  I\n",
      "wanna do some teleoperated prospecting while Im up there\n",
      "\n",
      "\n",
      "\n",
      "\n",
      "    Software engineering Thats like military intelligence isnt it\n",
      "                     SYSMGRCADLABENGUMDEDU                         \n",
      "\n",
      "preprocess doc  From: pgf@srl03.cacs.usl.edu (Phil G. Fraering)\n",
      "Subject: Re: Comet in Temporary Orbit Around Jupiter?\n",
      "Organization: Univ. of Southwestern Louisiana\n",
      "Lines: 28\n",
      "\n",
      "msb@sq.sq.com (Mark Brader) writes:\n",
      "\n",
      "\n",
      ">Thanks again.  One final question.  The name Gehrels wasn't known to\n",
      ">me before this thread came up, but the May issue of Scientific American\n",
      ">has an article about the \"Inconstant Cosmos\", with a photo of Neil\n",
      ">Gehrels, project scientist for NASA's Compton Gamma Ray Observatory.\n",
      ">Same person?\n",
      "\n",
      "No. I estimate a 99 % probability the Gehrels referred to\n",
      "is Thomas Gehrels of the Spacewatch project, Kitt Peak observatory.\n",
      "\n",
      "Maybe in the 24th century they could do gamma ray spectroscopy on\n",
      "distant asteroids with an orbiting observatory, but here in the\n",
      "primitive 20th we have to send a probe there to get gamma ray\n",
      "spectroscopy done.\n",
      "\n",
      ">Mark Brader, SoftQuad Inc., Toronto\t\"Information! ... We want information!\"\n",
      ">utzoo!sq!msb, msb@sq.com\t\t\t\t-- The Prisoner\n",
      "\n",
      "You have the info on Mayan Television yet?\n",
      "\n",
      ">This article is in the public domain.\n",
      "--\n",
      "Phil Fraering         |\"Seems like every day we find out all sorts of stuff.\n",
      "pgf@srl02.cacs.usl.edu|Like how the ancient Mayans had televison.\" Repo Man\n",
      "\n",
      "\n",
      "\n",
      "after prepro  From pgfsrl03cacsusledu Phil G Fraering\n",
      "Subject Re Comet in Temporary Orbit Around Jupiter\n",
      "Organization Univ of Southwestern Louisiana\n",
      "Lines 28\n",
      "\n",
      "msbsqsqcom Mark Brader writes\n",
      "\n",
      "\n",
      "Thanks again  One final question  The name Gehrels wasnt known to\n",
      "me before this thread came up but the May issue of Scientific American\n",
      "has an article about the Inconstant Cosmos with a photo of Neil\n",
      "Gehrels project scientist for NASAs Compton Gamma Ray Observatory\n",
      "Same person\n",
      "\n",
      "No I estimate a 99  probability the Gehrels referred to\n",
      "is Thomas Gehrels of the Spacewatch project Kitt Peak observatory\n",
      "\n",
      "Maybe in the 24th century they could do gamma ray spectroscopy on\n",
      "distant asteroids with an orbiting observatory but here in the\n",
      "primitive 20th we have to send a probe there to get gamma ray\n",
      "spectroscopy done\n",
      "\n",
      "Mark Brader SoftQuad Inc Toronto\tInformation  We want information\n",
      "utzoosqmsb msbsqcom\t\t\t\t The Prisoner\n",
      "\n",
      "You have the info on Mayan Television yet\n",
      "\n",
      "This article is in the public domain\n",
      "\n",
      "Phil Fraering         Seems like every day we find out all sorts of stuff\n",
      "pgfsrl02cacsusleduLike how the ancient Mayans had televison Repo Man\n",
      "\n",
      "\n",
      "\n",
      "preprocess doc  From: Nanci Ann Miller <nm0w+@andrew.cmu.edu>\n",
      "Subject: Re: It's all Mary's fault!\n",
      "Organization: Sponsored account, School of Computer Science, Carnegie Mellon, Pittsburgh, PA\n",
      "Lines: 28\n",
      "\t<C5KEqu.4xo@portal.hq.videocart.com>\n",
      "NNTP-Posting-Host: po5.andrew.cmu.edu\n",
      "In-Reply-To: <C5KEqu.4xo@portal.hq.videocart.com>\n",
      "\n",
      "dfuller@portal.hq.videocart.com (Dave Fuller) writes:\n",
      ">   Nice attempt Chris . . . verrry close.\n",
      "> \n",
      ">   You missed the conspiracy by 1 step. Joseph knew who knocked her up.\n",
      "> He couldn't let it be known that somebody ELSE got ol' Mary prego. That\n",
      "> wouldn't do well for his popularity in the local circles. So what \n",
      "> happened is that she was feeling guilty, he was feeling embarrassed, and\n",
      "> THEY decided to improve both of their images on what could have otherwise\n",
      "> been the downfall for both. Clever indeed. Come to think of it . . . I\n",
      "> have gained a new respect for the couple. Maybe Joseph and Mary should\n",
      "> receive all of the praise being paid to jesus.\n",
      "\n",
      "Lucky for them that the baby didn't have any obvious deformities!  I could\n",
      "just see it now: Mary gets pregnant out of wedlock so to save face she and\n",
      "Joseph say that it was God that got her pregnant and then the baby turns\n",
      "out to be deformed, or even worse, stillborn!  They'd have a lot of\n",
      "explaining to do.... :-)\n",
      "\n",
      "> Dave \"Buckminster\" Fuller\n",
      "> How is that one 'o keeper of the nicknames ?\n",
      "\n",
      "Nanci\n",
      ".........................................................................\n",
      "If you know (and are SURE of) the author of this quote, please send me\n",
      "email (nm0w+@andrew.cmu.edu):\n",
      "Life does not cease to be funny when people die, any more than it ceases to\n",
      "be serious when people laugh.\n",
      "\n",
      "\n",
      "after prepro  From Nanci Ann Miller \n",
      "Subject Re Its all Marys fault\n",
      "Organization Sponsored account School of Computer Science Carnegie Mellon Pittsburgh PA\n",
      "Lines 28\n",
      "\t\n",
      "NNTPPostingHost po5andrewcmuedu\n",
      "InReplyTo \n",
      "\n",
      "dfullerportalhqvideocartcom Dave Fuller writes\n",
      "   Nice attempt Chris    verrry close\n",
      " \n",
      "   You missed the conspiracy by 1 step Joseph knew who knocked her up\n",
      " He couldnt let it be known that somebody ELSE got ol Mary prego That\n",
      " wouldnt do well for his popularity in the local circles So what \n",
      " happened is that she was feeling guilty he was feeling embarrassed and\n",
      " THEY decided to improve both of their images on what could have otherwise\n",
      " been the downfall for both Clever indeed Come to think of it    I\n",
      " have gained a new respect for the couple Maybe Joseph and Mary should\n",
      " receive all of the praise being paid to jesus\n",
      "\n",
      "Lucky for them that the baby didnt have any obvious deformities  I could\n",
      "just see it now Mary gets pregnant out of wedlock so to save face she and\n",
      "Joseph say that it was God that got her pregnant and then the baby turns\n",
      "out to be deformed or even worse stillborn  Theyd have a lot of\n",
      "explaining to do \n",
      "\n",
      " Dave Buckminster Fuller\n",
      " How is that one o keeper of the nicknames \n",
      "\n",
      "Nanci\n",
      "\n",
      "If you know and are SURE of the author of this quote please send me\n",
      "email nm0wandrewcmuedu\n",
      "Life does not cease to be funny when people die any more than it ceases to\n",
      "be serious when people laugh\n",
      "\n",
      "\n"
     ]
    },
    {
     "data": {
      "text/plain": [
       "Pipeline(steps=[('prepro', peprocessor()),\n",
       "                ('tfidf',\n",
       "                 TfidfVectorizer(lowercase=False,\n",
       "                                 tokenizer=<function identity_tokenizer at 0x7fcc2c756b90>)),\n",
       "                ('clf', LinearSVC(class_weight='balanced', random_state=42))])"
      ]
     },
     "execution_count": 32,
     "metadata": {},
     "output_type": "execute_result"
    }
   ],
   "source": [
    "pipe.fit(X[:5], y[:5])"
   ]
  },
  {
   "cell_type": "markdown",
   "metadata": {},
   "source": [
    "### Evalution\n",
    "Skip validation set performance evaluation. Short check on training data only for functionality test."
   ]
  },
  {
   "cell_type": "code",
   "execution_count": 33,
   "metadata": {},
   "outputs": [
    {
     "name": "stdout",
     "output_type": "stream",
     "text": [
      "preprocess doc  From: bil@okcforum.osrhe.edu (Bill Conner)\n",
      "Subject: Re: Not the Omni!\n",
      "Nntp-Posting-Host: okcforum.osrhe.edu\n",
      "Organization: Okcforum Unix Users Group\n",
      "X-Newsreader: TIN [version 1.1 PL6]\n",
      "Lines: 18\n",
      "\n",
      "Charley Wingate (mangoe@cs.umd.edu) wrote:\n",
      ": \n",
      ": >> Please enlighten me.  How is omnipotence contradictory?\n",
      ": \n",
      ": >By definition, all that can occur in the universe is governed by the rules\n",
      ": >of nature. Thus god cannot break them. Anything that god does must be allowed\n",
      ": >in the rules somewhere. Therefore, omnipotence CANNOT exist! It contradicts\n",
      ": >the rules of nature.\n",
      ": \n",
      ": Obviously, an omnipotent god can change the rules.\n",
      "\n",
      "When you say, \"By definition\", what exactly is being defined;\n",
      "certainly not omnipotence. You seem to be saying that the \"rules of\n",
      "nature\" are pre-existant somehow, that they not only define nature but\n",
      "actually cause it. If that's what you mean I'd like to hear your\n",
      "further thoughts on the question.\n",
      "\n",
      "Bill\n",
      "\n",
      "after prepro  From bilokcforumosrheedu Bill Conner\n",
      "Subject Re Not the Omni\n",
      "NntpPostingHost okcforumosrheedu\n",
      "Organization Okcforum Unix Users Group\n",
      "XNewsreader TIN [version 11 PL6]\n",
      "Lines 18\n",
      "\n",
      "Charley Wingate mangoecsumdedu wrote\n",
      " \n",
      "  Please enlighten me  How is omnipotence contradictory\n",
      " \n",
      " By definition all that can occur in the universe is governed by the rules\n",
      " of nature Thus god cannot break them Anything that god does must be allowed\n",
      " in the rules somewhere Therefore omnipotence CANNOT exist It contradicts\n",
      " the rules of nature\n",
      " \n",
      " Obviously an omnipotent god can change the rules\n",
      "\n",
      "When you say By definition what exactly is being defined\n",
      "certainly not omnipotence You seem to be saying that the rules of\n",
      "nature are preexistant somehow that they not only define nature but\n",
      "actually cause it If thats what you mean Id like to hear your\n",
      "further thoughts on the question\n",
      "\n",
      "Bill\n",
      "\n",
      "preprocess doc  From: jhwitten@cs.ruu.nl (Jurriaan Wittenberg)\n",
      "Subject: Re: Magellan Update - 04/16/93\n",
      "Organization: Utrecht University, Dept. of Computer Science\n",
      "Keywords: Magellan, JPL\n",
      "Lines: 29\n",
      "\n",
      "In <19APR199320262420@kelvin.jpl.nasa.gov> baalke@kelvin.jpl.nasa.gov \n",
      "(Ron Baalke) writes:\n",
      "\n",
      ">Forwarded from Doug Griffith, Magellan Project Manager\n",
      ">\n",
      ">                        MAGELLAN STATUS REPORT\n",
      ">                            April 16, 1993\n",
      ">\n",
      ">\n",
      ">2.  Magellan has completed 7225 orbits of Venus and is now 39 days from\n",
      ">the end of Cycle-4 and the start of the Transition Experiment.\n",
      "Sorry I think I missed a bit of info on this Transition Experiment. What is it?\n",
      "\n",
      ">4.  On Monday morning, April 19, the moon will occult Venus and\n",
      ">interrupt the tracking of Magellan for about 68 minutes.\n",
      "Will this mean a loss of data or will the Magellan transmit data later on ??\n",
      "\n",
      "BTW: When will NASA cut off the connection with Magellan?? Not that I am\n",
      "looking forward to that day but I am just curious. I believe it had something\n",
      "to do with the funding from the goverment (or rather _NO_ funding :-)\n",
      "\n",
      "ok that's it for now. See you guys around,\n",
      "Jurriaan.\n",
      " \n",
      "-- \n",
      "-=-=-=-=-=-=-=-=-=-=-=-=-=-=-=-=-=-=-=-=-=-=-=-=-=-=-=-=-=-=-=-=-=-=-=-=-=-\n",
      "|----=|=-<- - - - - - JHWITTEN@CS.RUU.NL- - - - - - - - - - - - ->-=|=----|\n",
      "|----=|=-<-Jurriaan Wittenberg- - -Department of ComputerScience->-=|=----|\n",
      "|____/|\\_________Utrecht_________________The Netherlands___________/|\\____|\n",
      "\n",
      "after prepro  From jhwittencsruunl Jurriaan Wittenberg\n",
      "Subject Re Magellan Update  041693\n",
      "Organization Utrecht University Dept of Computer Science\n",
      "Keywords Magellan JPL\n",
      "Lines 29\n",
      "\n",
      "In 19APR199320262420kelvinjplnasagov baalkekelvinjplnasagov \n",
      "Ron Baalke writes\n",
      "\n",
      "Forwarded from Doug Griffith Magellan Project Manager\n",
      "\n",
      "                        MAGELLAN STATUS REPORT\n",
      "                            April 16 1993\n",
      "\n",
      "\n",
      "2  Magellan has completed 7225 orbits of Venus and is now 39 days from\n",
      "the end of Cycle4 and the start of the Transition Experiment\n",
      "Sorry I think I missed a bit of info on this Transition Experiment What is it\n",
      "\n",
      "4  On Monday morning April 19 the moon will occult Venus and\n",
      "interrupt the tracking of Magellan for about 68 minutes\n",
      "Will this mean a loss of data or will the Magellan transmit data later on \n",
      "\n",
      "BTW When will NASA cut off the connection with Magellan Not that I am\n",
      "looking forward to that day but I am just curious I believe it had something\n",
      "to do with the funding from the goverment or rather _NO_ funding \n",
      "\n",
      "ok thats it for now See you guys around\n",
      "Jurriaan\n",
      " \n",
      " \n",
      "\n",
      "      JHWITTENCSRUUNL            \n",
      "Jurriaan Wittenberg  Department of ComputerScience\n",
      "____\\_________Utrecht_________________The Netherlands___________\\____\n",
      "\n",
      "preprocess doc  From: sysmgr@king.eng.umd.edu (Doug Mohney)\n",
      "Subject: I want that Billion\n",
      "Organization: Computer Aided Design Lab, U. of Maryland College Park\n",
      "Lines: 37\n",
      "Reply-To: sysmgr@king.eng.umd.edu\n",
      "NNTP-Posting-Host: queen.eng.umd.edu\n",
      "\n",
      "In article <C5x86o.8p4@zoo.toronto.edu>, henry@zoo.toronto.edu (Henry Spencer) writes:\n",
      ">In article <1r6rn3INNn96@mojo.eng.umd.edu> sysmgr@king.eng.umd.edu writes:\n",
      ">>You'd need to launch HLVs to send up large amounts of stuff.  Do you know \n",
      ">>of a private Titan pad? \n",
      ">\n",
      ">You'd need to launch HLVs to send up large amounts of stuff *if* you assume\n",
      ">no new launcher development.  If you assume new launcher development, with\n",
      ">lower costs as a specific objective, then you probably don't want to\n",
      ">build something HLV-sized anyway.\n",
      ">\n",
      ">Nobody who is interested in launching things cheaply will buy Titans.  It\n",
      ">doesn't take many Titan pricetags to pay for a laser launcher or a large\n",
      ">gas gun or a development program for a Big Dumb Booster, all of which\n",
      ">would have far better cost-effectiveness.\n",
      "\n",
      "Henry, I made the assumption that he who gets there firstest with the mostest\n",
      "wins. \n",
      "\n",
      "Ohhh, you want to put in FINE PRINT which says \"Thou shall do wonderous R&D\n",
      "rather than use off-the-shelf hardware\"? Sorry, didn't see that in my copy.\n",
      "Most of the Pournellesque proposals run along the lines of <some dollar\n",
      "amount> reward for <some simple goal>.  \n",
      "\n",
      "You go ahead and do your development, I'll buy off the shelf at higher cost (or\n",
      "even Russian; but I also assume that there'd be some \"Buy US\" provos in there)\n",
      "and be camped out in the Moon while you are launching and assembling little\n",
      "itty-bitty payloads in LEO with your laser or gas gun.  And working out the\n",
      "bugs of assembly & integration in LEO. \n",
      "\n",
      "Oh, hey, could I get a couple of CanadARMs tuned for the lunar environment?  I\n",
      "wanna do some teleoperated prospecting while I'm up there...\n",
      "\n",
      "\n",
      "\n",
      "\n",
      "    Software engineering? That's like military intelligence, isn't it?\n",
      "  -- >                  SYSMGR@CADLAB.ENG.UMD.EDU                        < --\n",
      "\n",
      "after prepro  From sysmgrkingengumdedu Doug Mohney\n",
      "Subject I want that Billion\n",
      "Organization Computer Aided Design Lab U of Maryland College Park\n",
      "Lines 37\n",
      "ReplyTo sysmgrkingengumdedu\n",
      "NNTPPostingHost queenengumdedu\n",
      "\n",
      "In article  henryzootorontoedu Henry Spencer writes\n",
      "In article 1r6rn3INNn96mojoengumdedu sysmgrkingengumdedu writes\n",
      "Youd need to launch HLVs to send up large amounts of stuff  Do you know \n",
      "of a private Titan pad \n",
      "\n",
      "Youd need to launch HLVs to send up large amounts of stuff if you assume\n",
      "no new launcher development  If you assume new launcher development with\n",
      "lower costs as a specific objective then you probably dont want to\n",
      "build something HLVsized anyway\n",
      "\n",
      "Nobody who is interested in launching things cheaply will buy Titans  It\n",
      "doesnt take many Titan pricetags to pay for a laser launcher or a large\n",
      "gas gun or a development program for a Big Dumb Booster all of which\n",
      "would have far better costeffectiveness\n",
      "\n",
      "Henry I made the assumption that he who gets there firstest with the mostest\n",
      "wins \n",
      "\n",
      "Ohhh you want to put in FINE PRINT which says Thou shall do wonderous RD\n",
      "rather than use offtheshelf hardware Sorry didnt see that in my copy\n",
      "Most of the Pournellesque proposals run along the lines of  reward for   \n",
      "\n",
      "You go ahead and do your development Ill buy off the shelf at higher cost or\n",
      "even Russian but I also assume that thered be some Buy US provos in there\n",
      "and be camped out in the Moon while you are launching and assembling little\n",
      "ittybitty payloads in LEO with your laser or gas gun  And working out the\n",
      "bugs of assembly  integration in LEO \n",
      "\n",
      "Oh hey could I get a couple of CanadARMs tuned for the lunar environment  I\n",
      "wanna do some teleoperated prospecting while Im up there\n",
      "\n",
      "\n",
      "\n",
      "\n",
      "    Software engineering Thats like military intelligence isnt it\n",
      "                     SYSMGRCADLABENGUMDEDU                         \n",
      "\n",
      "preprocess doc  From: pgf@srl03.cacs.usl.edu (Phil G. Fraering)\n",
      "Subject: Re: Comet in Temporary Orbit Around Jupiter?\n",
      "Organization: Univ. of Southwestern Louisiana\n",
      "Lines: 28\n",
      "\n",
      "msb@sq.sq.com (Mark Brader) writes:\n",
      "\n",
      "\n",
      ">Thanks again.  One final question.  The name Gehrels wasn't known to\n",
      ">me before this thread came up, but the May issue of Scientific American\n",
      ">has an article about the \"Inconstant Cosmos\", with a photo of Neil\n",
      ">Gehrels, project scientist for NASA's Compton Gamma Ray Observatory.\n",
      ">Same person?\n",
      "\n",
      "No. I estimate a 99 % probability the Gehrels referred to\n",
      "is Thomas Gehrels of the Spacewatch project, Kitt Peak observatory.\n",
      "\n",
      "Maybe in the 24th century they could do gamma ray spectroscopy on\n",
      "distant asteroids with an orbiting observatory, but here in the\n",
      "primitive 20th we have to send a probe there to get gamma ray\n",
      "spectroscopy done.\n",
      "\n",
      ">Mark Brader, SoftQuad Inc., Toronto\t\"Information! ... We want information!\"\n",
      ">utzoo!sq!msb, msb@sq.com\t\t\t\t-- The Prisoner\n",
      "\n",
      "You have the info on Mayan Television yet?\n",
      "\n",
      ">This article is in the public domain.\n",
      "--\n",
      "Phil Fraering         |\"Seems like every day we find out all sorts of stuff.\n",
      "pgf@srl02.cacs.usl.edu|Like how the ancient Mayans had televison.\" Repo Man\n",
      "\n",
      "\n",
      "\n",
      "after prepro  From pgfsrl03cacsusledu Phil G Fraering\n",
      "Subject Re Comet in Temporary Orbit Around Jupiter\n",
      "Organization Univ of Southwestern Louisiana\n",
      "Lines 28\n",
      "\n",
      "msbsqsqcom Mark Brader writes\n",
      "\n",
      "\n",
      "Thanks again  One final question  The name Gehrels wasnt known to\n",
      "me before this thread came up but the May issue of Scientific American\n",
      "has an article about the Inconstant Cosmos with a photo of Neil\n",
      "Gehrels project scientist for NASAs Compton Gamma Ray Observatory\n",
      "Same person\n",
      "\n",
      "No I estimate a 99  probability the Gehrels referred to\n",
      "is Thomas Gehrels of the Spacewatch project Kitt Peak observatory\n",
      "\n",
      "Maybe in the 24th century they could do gamma ray spectroscopy on\n",
      "distant asteroids with an orbiting observatory but here in the\n",
      "primitive 20th we have to send a probe there to get gamma ray\n",
      "spectroscopy done\n",
      "\n",
      "Mark Brader SoftQuad Inc Toronto\tInformation  We want information\n",
      "utzoosqmsb msbsqcom\t\t\t\t The Prisoner\n",
      "\n",
      "You have the info on Mayan Television yet\n",
      "\n",
      "This article is in the public domain\n",
      "\n",
      "Phil Fraering         Seems like every day we find out all sorts of stuff\n",
      "pgfsrl02cacsusleduLike how the ancient Mayans had televison Repo Man\n",
      "\n",
      "\n",
      "\n",
      "preprocess doc  From: Nanci Ann Miller <nm0w+@andrew.cmu.edu>\n",
      "Subject: Re: It's all Mary's fault!\n",
      "Organization: Sponsored account, School of Computer Science, Carnegie Mellon, Pittsburgh, PA\n",
      "Lines: 28\n",
      "\t<C5KEqu.4xo@portal.hq.videocart.com>\n",
      "NNTP-Posting-Host: po5.andrew.cmu.edu\n",
      "In-Reply-To: <C5KEqu.4xo@portal.hq.videocart.com>\n",
      "\n",
      "dfuller@portal.hq.videocart.com (Dave Fuller) writes:\n",
      ">   Nice attempt Chris . . . verrry close.\n",
      "> \n",
      ">   You missed the conspiracy by 1 step. Joseph knew who knocked her up.\n",
      "> He couldn't let it be known that somebody ELSE got ol' Mary prego. That\n",
      "> wouldn't do well for his popularity in the local circles. So what \n",
      "> happened is that she was feeling guilty, he was feeling embarrassed, and\n",
      "> THEY decided to improve both of their images on what could have otherwise\n",
      "> been the downfall for both. Clever indeed. Come to think of it . . . I\n",
      "> have gained a new respect for the couple. Maybe Joseph and Mary should\n",
      "> receive all of the praise being paid to jesus.\n",
      "\n",
      "Lucky for them that the baby didn't have any obvious deformities!  I could\n",
      "just see it now: Mary gets pregnant out of wedlock so to save face she and\n",
      "Joseph say that it was God that got her pregnant and then the baby turns\n",
      "out to be deformed, or even worse, stillborn!  They'd have a lot of\n",
      "explaining to do.... :-)\n",
      "\n",
      "> Dave \"Buckminster\" Fuller\n",
      "> How is that one 'o keeper of the nicknames ?\n",
      "\n",
      "Nanci\n",
      ".........................................................................\n",
      "If you know (and are SURE of) the author of this quote, please send me\n",
      "email (nm0w+@andrew.cmu.edu):\n",
      "Life does not cease to be funny when people die, any more than it ceases to\n",
      "be serious when people laugh.\n",
      "\n",
      "\n",
      "after prepro  From Nanci Ann Miller \n",
      "Subject Re Its all Marys fault\n",
      "Organization Sponsored account School of Computer Science Carnegie Mellon Pittsburgh PA\n",
      "Lines 28\n",
      "\t\n",
      "NNTPPostingHost po5andrewcmuedu\n",
      "InReplyTo \n",
      "\n",
      "dfullerportalhqvideocartcom Dave Fuller writes\n",
      "   Nice attempt Chris    verrry close\n",
      " \n",
      "   You missed the conspiracy by 1 step Joseph knew who knocked her up\n",
      " He couldnt let it be known that somebody ELSE got ol Mary prego That\n",
      " wouldnt do well for his popularity in the local circles So what \n",
      " happened is that she was feeling guilty he was feeling embarrassed and\n",
      " THEY decided to improve both of their images on what could have otherwise\n",
      " been the downfall for both Clever indeed Come to think of it    I\n",
      " have gained a new respect for the couple Maybe Joseph and Mary should\n",
      " receive all of the praise being paid to jesus\n",
      "\n",
      "Lucky for them that the baby didnt have any obvious deformities  I could\n",
      "just see it now Mary gets pregnant out of wedlock so to save face she and\n",
      "Joseph say that it was God that got her pregnant and then the baby turns\n",
      "out to be deformed or even worse stillborn  Theyd have a lot of\n",
      "explaining to do \n",
      "\n",
      " Dave Buckminster Fuller\n",
      " How is that one o keeper of the nicknames \n",
      "\n",
      "Nanci\n",
      "\n",
      "If you know and are SURE of the author of this quote please send me\n",
      "email nm0wandrewcmuedu\n",
      "Life does not cease to be funny when people die any more than it ceases to\n",
      "be serious when people laugh\n",
      "\n",
      "\n"
     ]
    },
    {
     "data": {
      "text/plain": [
       "array([0, 1, 1, 1, 0])"
      ]
     },
     "execution_count": 33,
     "metadata": {},
     "output_type": "execute_result"
    }
   ],
   "source": [
    "pipe.predict(X[:5])"
   ]
  },
  {
   "cell_type": "markdown",
   "metadata": {},
   "source": [
    "## II) Save to Mlflow\n",
    "\n",
    "Use custom pyfunc implementation due to the nltk dependency"
   ]
  },
  {
   "cell_type": "code",
   "execution_count": 34,
   "metadata": {},
   "outputs": [],
   "source": [
    "from mlflow.models.signature import ModelSignature\n",
    "from mlflow.types.schema import Schema, ColSpec\n",
    "import mlflow"
   ]
  },
  {
   "cell_type": "code",
   "execution_count": 35,
   "metadata": {},
   "outputs": [
    {
     "data": {
      "text/plain": [
       "inputs: \n",
       "  ['text': string]\n",
       "outputs: \n",
       "  [string]"
      ]
     },
     "execution_count": 35,
     "metadata": {},
     "output_type": "execute_result"
    }
   ],
   "source": [
    "input_example = {\n",
    "  \"text\": \"Please enlighten me.  How is omnipotence contradictory\",\n",
    "}\n",
    "input_schema = Schema([\n",
    "  ColSpec(\"string\", \"text\")\n",
    "])\n",
    "output_schema = Schema([ColSpec(\"string\")])\n",
    "signature = ModelSignature(inputs=input_schema, outputs=output_schema)\n",
    "signature"
   ]
  },
  {
   "cell_type": "code",
   "execution_count": 36,
   "metadata": {},
   "outputs": [],
   "source": [
    "test_text = [\"Please enlighten me.  How is omnipotence contradictory\"]"
   ]
  },
  {
   "cell_type": "markdown",
   "metadata": {},
   "source": [
    "### Save Local"
   ]
  },
  {
   "cell_type": "code",
   "execution_count": 37,
   "metadata": {},
   "outputs": [],
   "source": [
    "! rm -rf tests/classifier\n",
    "mlflow.sklearn.save_model(\n",
    "    pipe, \n",
    "    path = \"tests/classifier\", # save local\n",
    "    conda_env=\"environment.yml\", \n",
    "    #mlflow_model=None, \n",
    "    #serialization_format='cloudpickle', \n",
    "    signature = signature,\n",
    "    input_example = input_example, \n",
    "    pip_requirements=None, extra_pip_requirements=None)"
   ]
  },
  {
   "cell_type": "code",
   "execution_count": 101,
   "metadata": {},
   "outputs": [],
   "source": [
    "local_model = mlflow.sklearn.load_model(\"classifier\")"
   ]
  },
  {
   "cell_type": "code",
   "execution_count": 104,
   "metadata": {},
   "outputs": [
    {
     "data": {
      "text/plain": [
       "array([1])"
      ]
     },
     "execution_count": 104,
     "metadata": {},
     "output_type": "execute_result"
    }
   ],
   "source": [
    "local_model.predict(test_text)"
   ]
  },
  {
   "cell_type": "markdown",
   "metadata": {},
   "source": [
    "### Save to MLflow"
   ]
  },
  {
   "cell_type": "code",
   "execution_count": 38,
   "metadata": {},
   "outputs": [],
   "source": [
    "mlflow.set_tracking_uri(\"http://localhost:8088\")"
   ]
  },
  {
   "cell_type": "code",
   "execution_count": 39,
   "metadata": {},
   "outputs": [],
   "source": [
    "experiment_name = \"document_classifier\""
   ]
  },
  {
   "cell_type": "code",
   "execution_count": 40,
   "metadata": {},
   "outputs": [],
   "source": [
    "#mlflow.create_experiment(experiment_name)"
   ]
  },
  {
   "cell_type": "code",
   "execution_count": 42,
   "metadata": {},
   "outputs": [],
   "source": [
    "mlflow.set_experiment(experiment_name)\n",
    "experiment = mlflow.get_experiment_by_name(experiment_name)"
   ]
  },
  {
   "cell_type": "code",
   "execution_count": 43,
   "metadata": {},
   "outputs": [
    {
     "data": {
      "text/plain": [
       "<ActiveRun: >"
      ]
     },
     "execution_count": 43,
     "metadata": {},
     "output_type": "execute_result"
    }
   ],
   "source": [
    "mlflow.start_run(experiment_id=experiment.experiment_id, run_name=\"baseline2\")"
   ]
  },
  {
   "cell_type": "code",
   "execution_count": 44,
   "metadata": {},
   "outputs": [],
   "source": [
    "mlflow.sklearn.log_model(\n",
    "    pipe, \n",
    "    artifact_path=\"model\", \n",
    "    conda_env=\"environment.yml\", \n",
    "    #serialization_format='cloudpickle', \n",
    "    registered_model_name=None, \n",
    "    signature= signature,\n",
    "    input_example= input_example)\n",
    "    #await_registration_for=300, \n",
    "    #pip_requirements=None, \n",
    "    #extra_pip_requirements=None)"
   ]
  },
  {
   "cell_type": "code",
   "execution_count": 45,
   "metadata": {},
   "outputs": [
    {
     "name": "stdout",
     "output_type": "stream",
     "text": [
      "[NbConvertApp] WARNING | Config option `template_path` not recognized by `HTMLExporter`.  Did you mean one of: `extra_template_paths, template_name, template_paths`?\n",
      "[NbConvertApp] Converting notebook NLP_Classifier.ipynb to html\n",
      "[NbConvertApp] Writing 647136 bytes to NLP_Classifier.html\n"
     ]
    }
   ],
   "source": [
    "!jupyter nbconvert --to html NLP_Classifier.ipynb\n",
    "mlflow.log_artifact(\"NLP_Classifier.ipynb\")\n",
    "mlflow.log_artifact(\"NLP_Classifier.html\")"
   ]
  },
  {
   "cell_type": "code",
   "execution_count": 46,
   "metadata": {},
   "outputs": [],
   "source": [
    "mlflow.end_run()"
   ]
  },
  {
   "cell_type": "code",
   "execution_count": null,
   "metadata": {},
   "outputs": [],
   "source": []
  },
  {
   "cell_type": "code",
   "execution_count": null,
   "metadata": {},
   "outputs": [],
   "source": []
  }
 ],
 "metadata": {
  "interpreter": {
   "hash": "eaa9d825dc59f09fd80dd8e301b68baf59ac4d96521ec6c33cd99e4af3bf8bc1"
  },
  "kernelspec": {
   "display_name": "Python 3 (ipykernel)",
   "language": "python",
   "name": "python3"
  },
  "language_info": {
   "codemirror_mode": {
    "name": "ipython",
    "version": 3
   },
   "file_extension": ".py",
   "mimetype": "text/x-python",
   "name": "python",
   "nbconvert_exporter": "python",
   "pygments_lexer": "ipython3",
   "version": "3.7.10"
  }
 },
 "nbformat": 4,
 "nbformat_minor": 2
}
