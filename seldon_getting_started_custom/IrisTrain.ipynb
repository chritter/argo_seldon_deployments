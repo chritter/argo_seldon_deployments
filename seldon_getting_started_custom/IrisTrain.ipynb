{
 "cells": [
  {
   "source": [
    "# ML Modeling with Iris Dataset and Sklearn"
   ],
   "cell_type": "markdown",
   "metadata": {}
  },
  {
   "cell_type": "code",
   "execution_count": 46,
   "id": "09af1871-6230-484b-9054-9bc995382748",
   "metadata": {
    "execution": {
     "iopub.execute_input": "2021-08-20T13:41:07.927867Z",
     "iopub.status.busy": "2021-08-20T13:41:07.927252Z",
     "iopub.status.idle": "2021-08-20T13:41:08.094848Z",
     "shell.execute_reply": "2021-08-20T13:41:08.093805Z",
     "shell.execute_reply.started": "2021-08-20T13:41:07.927839Z"
    },
    "tags": []
   },
   "outputs": [],
   "source": [
    "import sklearn\n",
    "from sklearn.ensemble import RandomForestClassifier\n",
    "from sklearn import datasets\n",
    "import numpy as np\n",
    "import joblib\n",
    "from joblib import dump, load\n",
    "import seldon_core"
   ]
  },
  {
   "cell_type": "code",
   "execution_count": 40,
   "id": "eb0a95df-7f7a-469b-b3aa-38f8d0fa08f7",
   "metadata": {
    "execution": {
     "iopub.execute_input": "2021-08-20T13:34:50.035467Z",
     "iopub.status.busy": "2021-08-20T13:34:49.962377Z",
     "iopub.status.idle": "2021-08-20T13:34:50.608255Z",
     "shell.execute_reply": "2021-08-20T13:34:50.597926Z",
     "shell.execute_reply.started": "2021-08-20T13:34:50.031831Z"
    },
    "tags": []
   },
   "outputs": [
    {
     "data": {
      "text/plain": [
       "'0.24.2'"
      ]
     },
     "execution_count": 40,
     "metadata": {},
     "output_type": "execute_result"
    }
   ],
   "source": [
    "sklearn.__version__"
   ]
  },
  {
   "cell_type": "code",
   "execution_count": 45,
   "id": "3c527cee-c2a9-4317-b9dc-20a21974e5f1",
   "metadata": {
    "execution": {
     "iopub.execute_input": "2021-08-20T13:35:21.117123Z",
     "iopub.status.busy": "2021-08-20T13:35:21.116430Z",
     "iopub.status.idle": "2021-08-20T13:35:21.137531Z",
     "shell.execute_reply": "2021-08-20T13:35:21.135375Z",
     "shell.execute_reply.started": "2021-08-20T13:35:21.117077Z"
    },
    "tags": []
   },
   "outputs": [
    {
     "data": {
      "text/plain": [
       "'1.0.1'"
      ]
     },
     "execution_count": 45,
     "metadata": {},
     "output_type": "execute_result"
    }
   ],
   "source": [
    "joblib.__version__"
   ]
  },
  {
   "cell_type": "code",
   "execution_count": 47,
   "id": "be2e9752-bc68-4aab-94d1-10debac018ad",
   "metadata": {
    "execution": {
     "iopub.execute_input": "2021-08-20T13:41:13.306703Z",
     "iopub.status.busy": "2021-08-20T13:41:13.305990Z",
     "iopub.status.idle": "2021-08-20T13:41:13.323199Z",
     "shell.execute_reply": "2021-08-20T13:41:13.316372Z",
     "shell.execute_reply.started": "2021-08-20T13:41:13.306660Z"
    }
   },
   "outputs": [
    {
     "data": {
      "text/plain": [
       "'1.10.0'"
      ]
     },
     "execution_count": 47,
     "metadata": {},
     "output_type": "execute_result"
    }
   ],
   "source": [
    "seldon_core.__version__"
   ]
  },
  {
   "cell_type": "code",
   "execution_count": 4,
   "id": "f4b4b1a6-eaed-4f5a-ab9b-abc0bb0eb043",
   "metadata": {
    "execution": {
     "iopub.execute_input": "2021-08-18T19:17:36.657357Z",
     "iopub.status.busy": "2021-08-18T19:17:36.656731Z",
     "iopub.status.idle": "2021-08-18T19:17:36.690893Z",
     "shell.execute_reply": "2021-08-18T19:17:36.671477Z",
     "shell.execute_reply.started": "2021-08-18T19:17:36.657302Z"
    }
   },
   "outputs": [],
   "source": [
    "iris = datasets.load_iris()"
   ]
  },
  {
   "cell_type": "code",
   "execution_count": 7,
   "id": "ef67c7e0-f702-4e12-87d3-6eaeeb5483b4",
   "metadata": {
    "execution": {
     "iopub.execute_input": "2021-08-18T19:17:52.708598Z",
     "iopub.status.busy": "2021-08-18T19:17:52.707594Z",
     "iopub.status.idle": "2021-08-18T19:17:52.743080Z",
     "shell.execute_reply": "2021-08-18T19:17:52.734683Z",
     "shell.execute_reply.started": "2021-08-18T19:17:52.708539Z"
    },
    "tags": []
   },
   "outputs": [
    {
     "data": {
      "text/plain": [
       "(150, 4)"
      ]
     },
     "execution_count": 7,
     "metadata": {},
     "output_type": "execute_result"
    }
   ],
   "source": [
    "iris['data'].shape"
   ]
  },
  {
   "cell_type": "code",
   "execution_count": 8,
   "id": "45eec3fa-b84b-47e8-9216-89d436a1dc78",
   "metadata": {
    "execution": {
     "iopub.execute_input": "2021-08-18T19:17:58.069054Z",
     "iopub.status.busy": "2021-08-18T19:17:58.068349Z",
     "iopub.status.idle": "2021-08-18T19:17:58.091674Z",
     "shell.execute_reply": "2021-08-18T19:17:58.081884Z",
     "shell.execute_reply.started": "2021-08-18T19:17:58.069002Z"
    }
   },
   "outputs": [
    {
     "data": {
      "text/plain": [
       "(150,)"
      ]
     },
     "execution_count": 8,
     "metadata": {},
     "output_type": "execute_result"
    }
   ],
   "source": [
    "iris['target'].shape"
   ]
  },
  {
   "cell_type": "code",
   "execution_count": 13,
   "id": "0d7ffe13-b104-404f-a13b-3e3195a1d84d",
   "metadata": {
    "execution": {
     "iopub.execute_input": "2021-08-18T19:18:25.929518Z",
     "iopub.status.busy": "2021-08-18T19:18:25.927691Z",
     "iopub.status.idle": "2021-08-18T19:18:25.962619Z",
     "shell.execute_reply": "2021-08-18T19:18:25.953333Z",
     "shell.execute_reply.started": "2021-08-18T19:18:25.929448Z"
    },
    "tags": []
   },
   "outputs": [
    {
     "data": {
      "text/plain": [
       "array([0, 1, 2])"
      ]
     },
     "execution_count": 13,
     "metadata": {},
     "output_type": "execute_result"
    }
   ],
   "source": [
    "np.unique(iris['target'])"
   ]
  },
  {
   "cell_type": "code",
   "execution_count": 32,
   "id": "0271a239-3690-4a1a-b0e7-2f666ace5720",
   "metadata": {
    "execution": {
     "iopub.execute_input": "2021-08-18T19:24:25.145434Z",
     "iopub.status.busy": "2021-08-18T19:24:25.141547Z",
     "iopub.status.idle": "2021-08-18T19:24:25.173740Z",
     "shell.execute_reply": "2021-08-18T19:24:25.165538Z",
     "shell.execute_reply.started": "2021-08-18T19:24:25.145347Z"
    },
    "tags": []
   },
   "outputs": [],
   "source": [
    "X = iris['data']\n",
    "y = iris['target']"
   ]
  },
  {
   "cell_type": "code",
   "execution_count": 34,
   "id": "fdac3af5-deda-4ba6-9121-592540899fc4",
   "metadata": {
    "execution": {
     "iopub.execute_input": "2021-08-18T19:24:27.683333Z",
     "iopub.status.busy": "2021-08-18T19:24:27.682529Z",
     "iopub.status.idle": "2021-08-18T19:24:27.724869Z",
     "shell.execute_reply": "2021-08-18T19:24:27.707028Z",
     "shell.execute_reply.started": "2021-08-18T19:24:27.683067Z"
    },
    "tags": []
   },
   "outputs": [
    {
     "data": {
      "text/plain": [
       "array([5.1, 3.5, 1.4, 0.2])"
      ]
     },
     "execution_count": 34,
     "metadata": {},
     "output_type": "execute_result"
    }
   ],
   "source": [
    "X[0]"
   ]
  },
  {
   "cell_type": "code",
   "execution_count": 35,
   "id": "ef75c465-a472-4361-97c0-d44a611b8660",
   "metadata": {
    "execution": {
     "iopub.execute_input": "2021-08-18T19:24:31.181890Z",
     "iopub.status.busy": "2021-08-18T19:24:31.181279Z",
     "iopub.status.idle": "2021-08-18T19:24:31.190939Z",
     "shell.execute_reply": "2021-08-18T19:24:31.188946Z",
     "shell.execute_reply.started": "2021-08-18T19:24:31.181848Z"
    },
    "tags": []
   },
   "outputs": [],
   "source": [
    "clf = RandomForestClassifier(random_state=42)"
   ]
  },
  {
   "cell_type": "code",
   "execution_count": 36,
   "id": "d9f432b0-b435-4caa-939f-1abb8e5130d5",
   "metadata": {
    "execution": {
     "iopub.execute_input": "2021-08-18T19:24:34.943438Z",
     "iopub.status.busy": "2021-08-18T19:24:34.942908Z",
     "iopub.status.idle": "2021-08-18T19:24:35.964596Z",
     "shell.execute_reply": "2021-08-18T19:24:35.898567Z",
     "shell.execute_reply.started": "2021-08-18T19:24:34.943313Z"
    },
    "tags": []
   },
   "outputs": [
    {
     "data": {
      "text/plain": [
       "RandomForestClassifier(random_state=42)"
      ]
     },
     "execution_count": 36,
     "metadata": {},
     "output_type": "execute_result"
    }
   ],
   "source": [
    "clf.fit(X, y)"
   ]
  },
  {
   "cell_type": "code",
   "execution_count": 38,
   "id": "647bd037-cc55-4b4f-83b2-faea8d116351",
   "metadata": {
    "execution": {
     "iopub.execute_input": "2021-08-18T19:24:44.989548Z",
     "iopub.status.busy": "2021-08-18T19:24:44.988501Z",
     "iopub.status.idle": "2021-08-18T19:24:45.208137Z",
     "shell.execute_reply": "2021-08-18T19:24:45.198319Z",
     "shell.execute_reply.started": "2021-08-18T19:24:44.989510Z"
    },
    "tags": []
   },
   "outputs": [
    {
     "data": {
      "text/plain": [
       "1.0"
      ]
     },
     "execution_count": 38,
     "metadata": {},
     "output_type": "execute_result"
    }
   ],
   "source": [
    "clf.score(X, y)"
   ]
  },
  {
   "cell_type": "code",
   "execution_count": 39,
   "id": "2ba59bb8-7937-405e-a68c-4b49d30ab7f4",
   "metadata": {
    "execution": {
     "iopub.execute_input": "2021-08-18T19:24:50.874877Z",
     "iopub.status.busy": "2021-08-18T19:24:50.872042Z",
     "iopub.status.idle": "2021-08-18T19:24:51.033195Z",
     "shell.execute_reply": "2021-08-18T19:24:51.027315Z",
     "shell.execute_reply.started": "2021-08-18T19:24:50.874720Z"
    },
    "tags": []
   },
   "outputs": [
    {
     "data": {
      "text/plain": [
       "['model.joblib']"
      ]
     },
     "execution_count": 39,
     "metadata": {},
     "output_type": "execute_result"
    }
   ],
   "source": [
    "dump(clf, \"model.joblib\")"
   ]
  },
  {
   "cell_type": "code",
   "execution_count": null,
   "id": "d3c0bb3f-5d59-47a4-ae38-70217f6534cf",
   "metadata": {},
   "outputs": [],
   "source": []
  }
 ],
 "metadata": {
  "kernelspec": {
   "display_name": "Python 3 (ipykernel)",
   "language": "python",
   "name": "python3"
  },
  "language_info": {
   "codemirror_mode": {
    "name": "ipython",
    "version": 3
   },
   "file_extension": ".py",
   "mimetype": "text/x-python",
   "name": "python",
   "nbconvert_exporter": "python",
   "pygments_lexer": "ipython3",
   "version": "3.8.10"
  }
 },
 "nbformat": 4,
 "nbformat_minor": 5
}